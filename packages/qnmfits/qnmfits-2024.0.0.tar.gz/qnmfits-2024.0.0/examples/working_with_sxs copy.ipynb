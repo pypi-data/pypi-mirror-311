{
 "cells": [
  {
   "cell_type": "code",
   "execution_count": 1,
   "id": "0b62769c-751c-4082-b8b8-ff9c5fafa73c",
   "metadata": {},
   "outputs": [],
   "source": [
    "import numpy as np\n",
    "import matplotlib.pyplot as plt\n",
    "\n",
    "import sxs\n",
    "import qnmfits"
   ]
  },
  {
   "cell_type": "markdown",
   "id": "8f993976-e200-4edf-ac91-c3b8a198c357",
   "metadata": {},
   "source": [
    "### The `sxs` package lets us easily load SXS waveforms:"
   ]
  },
  {
   "cell_type": "code",
   "execution_count": 2,
   "id": "f18c959a-a1cd-49c9-a220-ce7c9fdac7eb",
   "metadata": {},
   "outputs": [
    {
     "name": "stdout",
     "output_type": "stream",
     "text": [
      "Skipping download from 'https://data.black-holes.org/catalog.json' because local file is newer\n",
      "Found the following files to load from the SXS catalog:\n",
      "    SXS:BBH:0305v5/Lev6/rhOverM_Asymptotic_GeometricUnits_CoM.h5\n"
     ]
    },
    {
     "data": {
      "text/plain": [
       "sxs.waveforms.waveform_modes.WaveformModes"
      ]
     },
     "execution_count": 2,
     "metadata": {},
     "output_type": "execute_result"
    }
   ],
   "source": [
    "h = sxs.load('SXS:BBH:0305/Lev/rhOverM', extrapolation_order=2)\n",
    "type(h)"
   ]
  },
  {
   "cell_type": "code",
   "execution_count": 3,
   "id": "4d858086",
   "metadata": {},
   "outputs": [],
   "source": [
    "import scri"
   ]
  },
  {
   "cell_type": "code",
   "execution_count": 4,
   "id": "338c9cab",
   "metadata": {},
   "outputs": [
    {
     "data": {
      "text/plain": [
       "scri.waveform_modes.WaveformModes"
      ]
     },
     "execution_count": 4,
     "metadata": {},
     "output_type": "execute_result"
    }
   ],
   "source": [
    "h = scri.WaveformModes(\n",
    "    dataType = scri.h,\n",
    "    t = h.time,\n",
    "    data = h.data,\n",
    "    ell_min = h.ell_min,\n",
    "    ell_max = h.ell_max,\n",
    "    frameType = scri.Inertial,\n",
    "    r_is_scaled_out = True,\n",
    "    m_is_scaled_out = True,\n",
    "    )\n",
    "\n",
    "type(h)"
   ]
  },
  {
   "cell_type": "markdown",
   "id": "e9c66130-17e2-4b31-9d65-35577758de68",
   "metadata": {},
   "source": [
    "The returned object is already a `WaveformModes` object, which has lots of handy methods (see the `scri` documentation [here](https://scri.readthedocs.io/en/latest/_autosummary/scri.html#scri.WaveformModes))."
   ]
  },
  {
   "cell_type": "code",
   "execution_count": 5,
   "id": "6550b4ac-d4f2-447d-8d46-8a44c19189b5",
   "metadata": {},
   "outputs": [],
   "source": [
    "# Shift the time array of the WaveformModes object so that zero is at the peak\n",
    "h.t -= h.max_norm_time()"
   ]
  },
  {
   "cell_type": "code",
   "execution_count": 6,
   "id": "d040216e-1828-4492-a19d-51f5f61b2f82",
   "metadata": {},
   "outputs": [
    {
     "name": "stdout",
     "output_type": "stream",
     "text": [
      "Found the following files to load from the SXS catalog:\n",
      "    SXS:BBH:0305v5/Lev6/metadata.json\n"
     ]
    }
   ],
   "source": [
    "# We can also easily load metadata associated with the simulation\n",
    "metadata = sxs.load('SXS:BBH:0305/Lev/metadata.json')"
   ]
  },
  {
   "cell_type": "code",
   "execution_count": 7,
   "id": "4e7952da-f96f-48ba-b04e-85b0346a80fe",
   "metadata": {},
   "outputs": [],
   "source": [
    "M = metadata.remnant_mass\n",
    "chi = np.linalg.norm(metadata.remnant_dimensionless_spin)"
   ]
  },
  {
   "cell_type": "markdown",
   "id": "b9a4a755-8312-4f11-8835-77e16ecc3385",
   "metadata": {},
   "source": [
    "### Perform a seven overtone fit to the $h_{22}$ mode using the `qnmfits` package:"
   ]
  },
  {
   "cell_type": "code",
   "execution_count": 19,
   "id": "7f36257c-fc47-4064-82fd-11a0fe7f1f7a",
   "metadata": {},
   "outputs": [],
   "source": [
    "qnms = [(2,2,n,1) for n in range(0+1)]\n",
    "t_0 = 0\n",
    "\n",
    "best_fit = qnmfits.fit(\n",
    "    h,\n",
    "    qnms,\n",
    "    M,\n",
    "    chi,\n",
    "    t_0=t_0,\n",
    "    spherical_modes=[(2,2),(3,2)]\n",
    ")"
   ]
  },
  {
   "cell_type": "code",
   "execution_count": 20,
   "id": "09c0de0d",
   "metadata": {},
   "outputs": [
    {
     "data": {
      "text/plain": [
       "{(2, 2, 0, 1): (0.45490846572169924+0.1894263201523226j)}"
      ]
     },
     "execution_count": 20,
     "metadata": {},
     "output_type": "execute_result"
    }
   ],
   "source": [
    "best_fit"
   ]
  },
  {
   "cell_type": "code",
   "execution_count": 21,
   "id": "14794672",
   "metadata": {},
   "outputs": [
    {
     "data": {
      "text/plain": [
       "[(2, 2, 0, 1)]"
      ]
     },
     "execution_count": 21,
     "metadata": {},
     "output_type": "execute_result"
    }
   ],
   "source": [
    "qnms"
   ]
  },
  {
   "cell_type": "code",
   "execution_count": 22,
   "id": "dcbe19fe",
   "metadata": {},
   "outputs": [],
   "source": [
    "t0_array = np.linspace(0, 100, 100)\n",
    "\n",
    "A220_list = []\n",
    "\n",
    "for t_0 in t0_array:\n",
    "    best_fit = qnmfits.fit(\n",
    "        h,\n",
    "        qnms,\n",
    "        M,\n",
    "        chi,\n",
    "        t_0=t_0,\n",
    "        spherical_modes=[(2,2)]\n",
    "    )\n",
    "    A220_list.append(best_fit[(2,2,0,1)])"
   ]
  },
  {
   "cell_type": "code",
   "execution_count": 23,
   "id": "4a3e589a",
   "metadata": {},
   "outputs": [
    {
     "data": {
      "text/plain": [
       "[<matplotlib.lines.Line2D at 0x2a2a3aa40>]"
      ]
     },
     "execution_count": 23,
     "metadata": {},
     "output_type": "execute_result"
    },
    {
     "data": {
      "image/png": "[encoded data removed]",
      "text/plain": [
       "<Figure size 640x480 with 1 Axes>"
      ]
     },
     "metadata": {},
     "output_type": "display_data"
    }
   ],
   "source": [
    "fig, ax = plt.subplots()\n",
    "\n",
    "ax.plot(t0_array, np.abs(A220_list))"
   ]
  },
  {
   "cell_type": "code",
   "execution_count": 24,
   "id": "31f73fc4",
   "metadata": {},
   "outputs": [],
   "source": [
    "t0_array = np.linspace(0, 100, 100)\n",
    "\n",
    "A220_list = []\n",
    "\n",
    "for t_0 in t0_array:\n",
    "    best_fit = qnmfits.fit(\n",
    "        h,\n",
    "        qnms,\n",
    "        M,\n",
    "        chi,\n",
    "        t_0=t_0,\n",
    "        t_ref = 0,\n",
    "        spherical_modes=[(2,2)]\n",
    "    )\n",
    "    A220_list.append(best_fit[(2,2,0,1)])"
   ]
  },
  {
   "cell_type": "code",
   "execution_count": 28,
   "id": "3c6f1867",
   "metadata": {},
   "outputs": [
    {
     "data": {
      "text/plain": [
       "[<matplotlib.lines.Line2D at 0x2a2c5e620>]"
      ]
     },
     "execution_count": 28,
     "metadata": {},
     "output_type": "execute_result"
    },
    {
     "data": {
      "image/png": "[encoded data removed]",
      "text/plain": [
       "<Figure size 640x480 with 1 Axes>"
      ]
     },
     "metadata": {},
     "output_type": "display_data"
    }
   ],
   "source": [
    "fig, ax = plt.subplots()\n",
    "\n",
    "ax.plot(t0_array, np.abs(A220_list))\n",
    "\n",
    "# x.set_ylim(0.9,1)"
   ]
  }
 ],
 "metadata": {
  "kernelspec": {
   "display_name": "Python 3",
   "language": "python",
   "name": "python3"
  },
  "language_info": {
   "codemirror_mode": {
    "name": "ipython",
    "version": 3
   },
   "file_extension": ".py",
   "mimetype": "text/x-python",
   "name": "python",
   "nbconvert_exporter": "python",
   "pygments_lexer": "ipython3",
   "version": "3.10.12"
  }
 },
 "nbformat": 4,
 "nbformat_minor": 5
}
