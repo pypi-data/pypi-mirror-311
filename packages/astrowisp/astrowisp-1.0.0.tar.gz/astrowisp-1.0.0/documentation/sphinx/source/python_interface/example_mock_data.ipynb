{
 "cells": [
  {
   "cell_type": "markdown",
   "metadata": {
    "hideCode": false,
    "hidePrompt": false,
    "pycharm": {
     "name": "#%% md\n"
    }
   },
   "source": [
    "# Example of PSF Fitting and Aperture Photometry Using Mock Data"
   ]
  },
  {
   "cell_type": "markdown",
   "metadata": {
    "hideCode": false,
    "hidePrompt": false,
    "pycharm": {
     "name": "#%% md\n"
    }
   },
   "source": [
    "## PSF fitting\n",
    "\n",
    "### Step 1: Prepare Mock Input Data for PSF Fitting"
   ]
  },
  {
   "cell_type": "markdown",
   "metadata": {
    "hideCode": false,
    "hidePrompt": false,
    "pycharm": {
     "name": "#%% md\n"
    }
   },
   "source": [
    "Import the required objects for creating mock input data to demonstrate PSF fitting."
   ]
  },
  {
   "cell_type": "code",
   "execution_count": 1,
   "metadata": {
    "hideCode": false,
    "hidePrompt": false,
    "pycharm": {
     "name": "#%%\n"
    }
   },
   "outputs": [],
   "source": [
    "from matplotlib import pyplot\n",
    "import numpy\n",
    "from ctypes import c_ubyte, c_char\n",
    "from os.path import expanduser\n",
    "\n",
    "import sys\n",
    "sys.path.insert(0, expanduser('~/projects/git/AstroWISP/PythonPackage'))\n",
    "sys.path.insert(0, expanduser('~/projects/git/AstroWISP/PythonPackage/tests'))\n",
    "\n",
    "from astrowisp.fake_image.piecewise_bicubic_psf import PiecewiseBicubicPSF\n",
    "from test_fit_star_shape.utils import make_image_and_source_list"
   ]
  },
  {
   "cell_type": "markdown",
   "metadata": {
    "hideCode": false,
    "hidePrompt": false,
    "pycharm": {
     "name": "#%% md\n"
    }
   },
   "source": [
    "Create a mock image, sub-pixel map and list of sources to demonstrate PSF fitting.\n",
    "\n",
    "The properties of the created items are:\n",
    "\n",
    "  * The image contains a single source with center at (5, 5).\n",
    "\n",
    "  * The PSF is on a bicubic grid with x boundaries -2, 0 and 2 and y boundaries -1, 0, 1 relative to the center.\n",
    "  \n",
    "  * The PSF, its first order derivatives and the x-y cross derivative are all zero at the boundaries\n",
    "    $$x=\\pm2 \\quad\\mathrm{or}\\quad y=\\pm1$$\n",
    "    \n",
    "  * The first order derivative and the x-y cross derivative are zero at the center (x=0, y=0) and the values is 1 ADU.\n",
    "  \n",
    "  * The image has a background of 1 ADU\n",
    "  \n",
    "  * The source list contains exactly the following columns: `ID`, `x` and `y` giving a unique Id for the source and \n",
    "    the position of its center in the image\n",
    "    \n",
    "  * The sub-pixel map is a good approximation for the effective sensitivity map that should be used for DSLR cameras, \n",
    "    which stagger 4 channels on the image, and hence only a quarter of each \"pixel\" is sensitive for each channel"
   ]
  },
  {
   "cell_type": "code",
   "execution_count": 2,
   "metadata": {
    "hideCode": false,
    "hidePrompt": false,
    "pycharm": {
     "name": "#%%\n"
    }
   },
   "outputs": [
    {
     "name": "stdout",
     "output_type": "stream",
     "text": [
      "Source list:array([(b'000000', 5., 5.)],\n",
      "      dtype=[('ID', 'S6'), ('x', '<f8'), ('y', '<f8')])\n"
     ]
    },
    {
     "data": {
      "image/png": "[encoded data removed]",
      "text/plain": [
       "<Figure size 432x288 with 1 Axes>"
      ]
     },
     "metadata": {
      "needs_background": "light"
     },
     "output_type": "display_data"
    }
   ],
   "source": [
    "subpix_map = numpy.array([[0.0, 0.0], [0.0, 4.0]])\n",
    "\n",
    "values = numpy.zeros((3, 3))\n",
    "d_dx = numpy.zeros((3, 3))\n",
    "d_dy = numpy.zeros((3, 3))\n",
    "d2_dxdy = numpy.zeros((3, 3))\n",
    "values[1, 1] = 1.0\n",
    "        \n",
    "sources = [\n",
    "    dict(\n",
    "        x=5.0,\n",
    "        y=5.0,\n",
    "        psf=PiecewiseBicubicPSF(\n",
    "            psf_parameters=dict(\n",
    "                values=values,\n",
    "                d_dx=d_dx,\n",
    "                d_dy=d_dy,\n",
    "                d2_dxdy=d2_dxdy\n",
    "            ),\n",
    "            boundaries=dict(x=numpy.array([-2.0, 0.0, 2.0]),\n",
    "                            y=numpy.array([-1.0, 0.0, 1.0]))\n",
    "        )\n",
    "    )\n",
    "]\n",
    "\n",
    "image, source_list = make_image_and_source_list(sources, extra_variables=[], subpix_map=subpix_map)\n",
    "pyplot.imshow(image, cmap=pyplot.cm.bone)\n",
    "pyplot.title('Image')\n",
    "print('Source list:' + repr(source_list))"
   ]
  },
  {
   "cell_type": "code",
   "execution_count": 3,
   "metadata": {
    "hideCode": false,
    "hidePrompt": false,
    "pycharm": {
     "name": "#%%\n"
    }
   },
   "outputs": [
    {
     "data": {
      "image/png": "[encoded data removed]",
      "text/plain": [
       "<Figure size 432x288 with 1 Axes>"
      ]
     },
     "metadata": {
      "needs_background": "light"
     },
     "output_type": "display_data"
    }
   ],
   "source": [
    "pyplot.imshow(subpix_map, cmap=pyplot.cm.bone)\n",
    "pyplot.title('Sub-pixel sensivity map');"
   ]
  },
  {
   "cell_type": "markdown",
   "metadata": {
    "hideCode": false,
    "hidePrompt": false,
    "pycharm": {
     "name": "#%% md\n"
    }
   },
   "source": [
    "### Step 2: Perform the PSF Fitting"
   ]
  },
  {
   "cell_type": "markdown",
   "metadata": {
    "hideCode": false,
    "hidePrompt": false,
    "pycharm": {
     "name": "#%% md\n"
    }
   },
   "source": [
    "Import the required objects for PSF fitting and Background extraction"
   ]
  },
  {
   "cell_type": "code",
   "execution_count": 4,
   "metadata": {
    "hideCode": false,
    "hidePrompt": false,
    "pycharm": {
     "name": "#%%\n"
    }
   },
   "outputs": [],
   "source": [
    "from astrowisp import FitStarShape, BackgroundExtractor"
   ]
  },
  {
   "cell_type": "markdown",
   "metadata": {
    "hideCode": false,
    "hidePrompt": false,
    "pycharm": {
     "name": "#%% md\n"
    }
   },
   "source": [
    "Construct a PSF fitting object"
   ]
  },
  {
   "cell_type": "code",
   "execution_count": 5,
   "metadata": {
    "hideCode": false,
    "hidePrompt": false,
    "pycharm": {
     "name": "#%%\n"
    }
   },
   "outputs": [],
   "source": [
    "fit_star_shape = FitStarShape(\n",
    "    mode='PSF', # use PSF fitting (as opposed to PRF)\n",
    "    shape_terms='{1}', # Assume the PSF is the same for all sources\n",
    "    grid=[numpy.array([-2.0, 0.0, 2.0]),\n",
    "          numpy.array([-1.0, 0.0, 1.0])], # Use the same grid that was used to create the sources\n",
    "    initial_aperture=3.0, # Initial guess for source flux will be measured using an aperture with radius 3 pixels\n",
    "    subpixmap=subpix_map, # Assume the same sub-pixel map that was used to generate the image\n",
    "    max_abs_amplitude_change=0.0, # Force convergence based entirely on relative change in the amplitudes\n",
    "    max_rel_amplitude_change=1e-6, # Require that the flux estimates change by no more than ppm for convergence\n",
    "    bg_min_pix=3 #Require that the background is determined using at least 3 pixels\n",
    ")"
   ]
  },
  {
   "cell_type": "markdown",
   "metadata": {
    "hideCode": false,
    "hidePrompt": false,
    "pycharm": {
     "name": "#%% md\n"
    }
   },
   "source": [
    "Measure the background behind the sources."
   ]
  },
  {
   "cell_type": "code",
   "execution_count": 6,
   "metadata": {
    "hideCode": false,
    "hidePrompt": false,
    "pycharm": {
     "name": "#%%\n"
    }
   },
   "outputs": [],
   "source": [
    "background = BackgroundExtractor(\n",
    "    image,\n",
    "    3, # Include only pixels with centers at least 3 pixels away from the source center.\n",
    "    6  # Include only pixels with centers at most 6 pixels away from the source center.\n",
    ")\n",
    "background(\n",
    "    numpy.array([5.0]), # list of source x coordinates\n",
    "    numpy.array([5.0])  # list of source y coordinates\n",
    ");"
   ]
  },
  {
   "cell_type": "markdown",
   "metadata": {
    "hideCode": false,
    "hidePrompt": false,
    "pycharm": {
     "name": "#%% md\n"
    }
   },
   "source": [
    "Find the best-fit PSF shape."
   ]
  },
  {
   "cell_type": "code",
   "execution_count": 7,
   "metadata": {
    "hideCode": false,
    "hidePrompt": false,
    "pycharm": {
     "name": "#%%\n"
    }
   },
   "outputs": [],
   "source": [
    "result_tree = fit_star_shape.fit(\n",
    "    [\n",
    "        (\n",
    "            image, # The pixel values in the image\n",
    "            image**0.5, # Standard deviations of the pixels values (assume Poisson noise only and gain of 1)\n",
    "            numpy.zeros(image.shape, dtype=c_ubyte),\n",
    "            source_list\n",
    "        )\n",
    "    ],\n",
    "    [background]\n",
    ")"
   ]
  },
  {
   "cell_type": "markdown",
   "metadata": {
    "hideCode": false,
    "hidePrompt": false,
    "pycharm": {
     "name": "#%% md\n"
    }
   },
   "source": [
    "### Results\n",
    "\n",
    "Let's look at the coefficients of the polynomial expansion of the PSF parameters. In our case, the PSF has 4 free parameters $f$, $\\frac{\\partial f}{\\partial x}$, $\\frac{\\partial f}{\\partial y}$, and $\\frac{\\partial^2 f}{\\partial x\\partial y}$ at the center of the grid (all other grid intersections lie on the boundary and hence are contsrained to be zero.\n",
    "\n",
    "The PSF we used to create the source had: $f = 1$, and $\\frac{\\partial f}{\\partial x} = \\frac{\\partial f}{\\partial y} = \\frac{\\partial^2 f}{\\partial x\\partial y} = 0$, which we expect to recover."
   ]
  },
  {
   "cell_type": "code",
   "execution_count": 8,
   "metadata": {
    "hideCode": false,
    "hidePrompt": false,
    "pycharm": {
     "name": "#%%\n"
    }
   },
   "outputs": [
    {
     "name": "stdout",
     "output_type": "stream",
     "text": [
      "PSF map coefficients: array([ 5.00000000e-01,  1.51662586e-16, -1.65018810e-17, -2.77749592e-15])\n"
     ]
    }
   ],
   "source": [
    "print('PSF map coefficients: '\n",
    "      +\n",
    "      repr(result_tree.get('psffit.psfmap', shape=(4,))))"
   ]
  },
  {
   "cell_type": "markdown",
   "metadata": {
    "pycharm": {
     "name": "#%% md\n"
    }
   },
   "source": [
    "The coefficients are half of the values we used to recover, because the PSF shape has been normalized to have a flux of exactly 1. The product of the flux with the coefficients should give us the values we used at construction:"
   ]
  },
  {
   "cell_type": "code",
   "execution_count": 9,
   "metadata": {
    "hideCode": false,
    "hidePrompt": false,
    "pycharm": {
     "name": "#%%\n"
    }
   },
   "outputs": [
    {
     "name": "stdout",
     "output_type": "stream",
     "text": [
      "PSF fit flux: array([2.])\n"
     ]
    }
   ],
   "source": [
    "print('PSF fit flux: '\n",
    "      +\n",
    "      repr(result_tree.get('psffit.flux.0', shape=(len(sources),))))"
   ]
  },
  {
   "cell_type": "markdown",
   "metadata": {
    "hideCode": false,
    "hidePrompt": false,
    "pycharm": {
     "name": "#%% md\n"
    }
   },
   "source": [
    "## Aperture Photometry"
   ]
  },
  {
   "cell_type": "markdown",
   "metadata": {
    "hideCode": false,
    "hidePrompt": false,
    "slideshow": {
     "slide_type": "slide"
    },
    "pycharm": {
     "name": "#%% md\n"
    }
   },
   "source": [
    "Import the aperture photometry object"
   ]
  },
  {
   "cell_type": "code",
   "execution_count": 10,
   "metadata": {
    "hideCode": false,
    "hidePrompt": false,
    "pycharm": {
     "name": "#%%\n"
    }
   },
   "outputs": [],
   "source": [
    "from astrowisp import SubPixPhot"
   ]
  },
  {
   "cell_type": "markdown",
   "metadata": {
    "hideCode": false,
    "hidePrompt": false,
    "pycharm": {
     "name": "#%% md\n"
    }
   },
   "source": [
    "Construct an aperture photometry object to use the assumed sub-pixel sensitivity map, and three apertures. All other configuration options are left at their default values."
   ]
  },
  {
   "cell_type": "code",
   "execution_count": 11,
   "metadata": {
    "hideCode": false,
    "hidePrompt": false,
    "pycharm": {
     "name": "#%%\n"
    }
   },
   "outputs": [],
   "source": [
    "do_apphot = SubPixPhot(subpixmap=subpix_map,\n",
    "                       apertures=[1.0, 2.0, 3.0])"
   ]
  },
  {
   "cell_type": "markdown",
   "metadata": {
    "pycharm": {
     "name": "#%% md\n"
    }
   },
   "source": [
    "Measure the fluxes usinge the specified configuration, assuming the input image follows poisson statistics and a clean bad pixel mask."
   ]
  },
  {
   "cell_type": "code",
   "execution_count": 12,
   "metadata": {
    "hideCode": false,
    "hidePrompt": false,
    "pycharm": {
     "name": "#%%\n"
    }
   },
   "outputs": [],
   "source": [
    "do_apphot(\n",
    "    image, # The measured response of the image pixels\n",
    "    image**0.5, # Standard deviation estimate for the\n",
    "                # response of image pixels (assume\n",
    "                # Poission statistics)\n",
    "    numpy.zeros(image.shape, dtype=c_char), # Bad pixel mask: all zeros means all pixels are clean.\n",
    "    result_tree, # Result object, must contain PSF\n",
    "                 # fitting results already and is\n",
    "                 #updated with aperture photometry\n",
    ")"
   ]
  },
  {
   "cell_type": "markdown",
   "metadata": {
    "pycharm": {
     "name": "#%% md\n"
    }
   },
   "source": [
    "### Results\n",
    "\n",
    "The first two apertures are not large enough to encompass the entire source, so we expect the flux to be underestimated, by a lot and then by a little, and the last aperture should recover the exact source flux."
   ]
  },
  {
   "cell_type": "code",
   "execution_count": 13,
   "metadata": {
    "hideCode": false,
    "hidePrompt": false,
    "pycharm": {
     "name": "#%%\n"
    }
   },
   "outputs": [
    {
     "name": "stdout",
     "output_type": "stream",
     "text": [
      "Aperture    Magnitude +- Error      Flux      \n",
      "1               9.531 +- nan        1.5403    \n",
      "2              9.2475 +- nan        1.9998    \n",
      "3              9.2474 +- nan        2         \n"
     ]
    }
   ],
   "source": [
    "apertures = do_apphot.configuration['apertures']\n",
    "magnitudes = numpy.array([\n",
    "    result_tree.get('apphot.mag.0.' + str(ap_ind), shape=(1,))\n",
    "    for ap_ind in range(len(apertures))\n",
    "])\n",
    "magnitude_errors = numpy.array([\n",
    "    result_tree.get('apphot.mag_err.0.' + str(ap_ind), shape=(1,))\n",
    "    for ap_ind in range(len(apertures))\n",
    "])\n",
    "fluxes = 10.0**((do_apphot.configuration['magnitude_1adu'] - magnitudes)/2.5)\n",
    "\n",
    "print('%-10.10s %10.10s +- %-10.10s %-10.10s'\n",
    "      %\n",
    "      ('Aperture', 'Magnitude', 'Error', 'Flux'))\n",
    "line_fmt = '%-10.5g %10.5g +- %-10.5g %-10.5g'\n",
    "for source_info in zip(apertures,\n",
    "                       magnitudes,\n",
    "                       magnitude_errors,\n",
    "                       fluxes):\n",
    "    print(line_fmt % source_info)"
   ]
  }
 ],
 "metadata": {
  "hide_code_all_hidden": false,
  "kernelspec": {
   "display_name": "Python 3",
   "language": "python",
   "name": "python3"
  },
  "language_info": {
   "codemirror_mode": {
    "name": "ipython",
    "version": 3
   },
   "file_extension": ".py",
   "mimetype": "text/x-python",
   "name": "python",
   "nbconvert_exporter": "python",
   "pygments_lexer": "ipython3",
   "version": "3.6.7"
  }
 },
 "nbformat": 4,
 "nbformat_minor": 2
}
