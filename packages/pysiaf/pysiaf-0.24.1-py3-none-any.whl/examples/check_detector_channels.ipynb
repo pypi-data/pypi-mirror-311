{
 "cells": [
  {
   "cell_type": "markdown",
   "metadata": {},
   "source": [
    "# Checking the locations of detector channels in pysiaf"
   ]
  },
  {
   "cell_type": "markdown",
   "metadata": {},
   "source": [
    "Note: For all teh following plots, the raw frame origin is plotted in black and the science frame origin is plotted in blue"
   ]
  },
  {
   "cell_type": "code",
   "execution_count": null,
   "metadata": {
    "collapsed": true
   },
   "outputs": [],
   "source": [
    "import pysiaf\n",
    "import matplotlib.pyplot as plt\n",
    "%matplotlib inline"
   ]
  },
  {
   "cell_type": "markdown",
   "metadata": {},
   "source": [
    "### NIRCam"
   ]
  },
  {
   "cell_type": "code",
   "execution_count": null,
   "metadata": {},
   "outputs": [],
   "source": [
    "nir = pysiaf.Siaf(\"NIRCam\")\n",
    "nir.plot(subarrays=False, show_frame_origin=[\"raw\", \"sci\"], mark_ref=True, frame=\"tel\")\n",
    "nir.plot_detector_channels()\n",
    "plt.title(\"NIRCam - A5_FULL and B5_FULL\")"
   ]
  },
  {
   "cell_type": "code",
   "execution_count": null,
   "metadata": {},
   "outputs": [],
   "source": [
    "nir = pysiaf.Siaf(\"NIRCam\")\n",
    "for apername in [\"NRCA1_FULL\", \"NRCA2_FULL\", \"NRCA3_FULL\", \"NRCA4_FULL\", \n",
    "                 \"NRCB1_FULL\", \"NRCB2_FULL\", \"NRCB3_FULL\", \"NRCB4_FULL\"]:\n",
    "    ap = nir.apertures[apername]\n",
    "    ap.plot(show_frame_origin=[\"raw\", \"sci\"], mark_ref=True, frame='tel')\n",
    "    ap.plot_detector_channels(frame='tel')\n",
    "plt.title(\"NIRCam - A1-4_FULL and B1-4_FULL\")"
   ]
  },
  {
   "cell_type": "code",
   "execution_count": null,
   "metadata": {},
   "outputs": [],
   "source": [
    "nir = pysiaf.Siaf(\"NIRCam\")\n",
    "for apername in [\"NRCA2_MASK210R\", \"NRCA4_MASKSWB\", \"NRCA5_MASK335R\", \"NRCA5_MASK430R\", \"NRCA5_MASKLWB\", \n",
    "                 \"NRCB3_MASKSWB\", \"NRCB1_MASK210R\", \"NRCB5_MASK335R\", \"NRCB5_MASK430R\", \"NRCB5_MASKLWB\"]:\n",
    "    ap = nir.apertures[apername]\n",
    "    ap.plot(frame='tel')\n",
    "    ap.plot_detector_channels(frame='tel')\n",
    "plt.title(\"NIRCam Coronagraphypy\")"
   ]
  },
  {
   "cell_type": "markdown",
   "metadata": {},
   "source": [
    "### NIRSpec"
   ]
  },
  {
   "cell_type": "code",
   "execution_count": null,
   "metadata": {},
   "outputs": [],
   "source": [
    "nirs = pysiaf.Siaf(\"NIRSpec\")\n",
    "aper = nirs.apertures[\"NRS1_FULL\"]\n",
    "aper2 = nirs.apertures[\"NRS2_FULL\"]\n",
    "\n",
    "aper.plot(show_frame_origin=[\"raw\", \"sci\"], mark_ref=True, frame=\"tel\", label=True)\n",
    "aper2.plot(show_frame_origin=[\"raw\", \"sci\"], mark_ref=True, frame=\"tel\", label=True)\n",
    "\n",
    "nirs.plot_detector_channels(frame='tel')\n",
    "plt.title(\"NIRSpec NRS1_FULL and NRS2_FULL\")"
   ]
  },
  {
   "cell_type": "code",
   "execution_count": null,
   "metadata": {},
   "outputs": [],
   "source": [
    "nirs = pysiaf.Siaf(\"NIRSpec\")\n",
    "for apername in [\"NRS_FULL_MSA1\", \"NRS_FULL_MSA2\", \"NRS_FULL_MSA3\", \"NRS_FULL_MSA4\"]:\n",
    "    ap = nirs.apertures[apername]\n",
    "    ap.plot(frame='tel', label=True)\n",
    "    ap.plot_detector_channels(frame='tel')\n",
    "plt.title(\"NIRSpec MSA and Slit\")"
   ]
  },
  {
   "cell_type": "markdown",
   "metadata": {},
   "source": [
    "### NIRISS"
   ]
  },
  {
   "cell_type": "code",
   "execution_count": null,
   "metadata": {},
   "outputs": [],
   "source": [
    "nis = pysiaf.Siaf(\"NIRISS\")\n",
    "nis.plot(subarrays=False, show_frame_origin=[\"raw\", \"sci\"], mark_ref=True, frame=\"tel\")\n",
    "nis.plot_detector_channels()\n",
    "plt.title(\"NIRISS NIS_CEN\")"
   ]
  },
  {
   "cell_type": "markdown",
   "metadata": {},
   "source": [
    "### MIRI"
   ]
  },
  {
   "cell_type": "code",
   "execution_count": null,
   "metadata": {},
   "outputs": [],
   "source": [
    "mir = pysiaf.Siaf(\"MIRI\")\n",
    "mir.plot(subarrays=False, show_frame_origin=[\"raw\", \"sci\"], mark_ref=True, frame=\"tel\")\n",
    "mir.plot_detector_channels()\n",
    "plt.title(\"MIRI MIRIM_FULL\")"
   ]
  },
  {
   "cell_type": "code",
   "execution_count": null,
   "metadata": {},
   "outputs": [],
   "source": [
    "mir = pysiaf.Siaf(\"MIRI\")\n",
    "mir.plot(subarrays=True, frame=\"tel\")\n",
    "mir.plot_detector_channels()\n",
    "plt.title(\"MIRI All Subarrays\")"
   ]
  },
  {
   "cell_type": "code",
   "execution_count": null,
   "metadata": {},
   "outputs": [],
   "source": [
    "mir = pysiaf.Siaf(\"MIRI\")\n",
    "for apername in [\"MIRIM_MASK1065\", \"MIRIM_MASK1140\", \"MIRIM_MASK1550\", \"MIRIM_MASKLYOT\"]:\n",
    "    ap = mir.apertures[apername]\n",
    "    ap.plot(frame='tel')\n",
    "    ap.plot_detector_channels(frame='tel')\n",
    "plt.title(\"MIRI Coronagraphy\")"
   ]
  },
  {
   "cell_type": "markdown",
   "metadata": {},
   "source": [
    "### FGS"
   ]
  },
  {
   "cell_type": "code",
   "execution_count": null,
   "metadata": {},
   "outputs": [],
   "source": [
    "fgs = pysiaf.Siaf(\"FGS\")\n",
    "fgs.plot(subarrays=False, show_frame_origin=[\"raw\", \"sci\"], mark_ref=True, frame=\"tel\")\n",
    "fgs.plot_detector_channels()\n",
    "plt.title(\"FGS FGS1_FULL and FGS2_FULL\")"
   ]
  },
  {
   "cell_type": "markdown",
   "metadata": {},
   "source": [
    "## Plotting all channels"
   ]
  },
  {
   "cell_type": "code",
   "execution_count": null,
   "metadata": {
    "scrolled": false
   },
   "outputs": [],
   "source": [
    "fig, ax = plt.subplots(1,1, figsize=(10,10))\n",
    "pysiaf.siaf.plot_main_apertures(detector_channels=True, label=True)\n",
    "ax.set_title(\"plot_main_apertures() with detector_channels=True\")"
   ]
  },
  {
   "cell_type": "code",
   "execution_count": null,
   "metadata": {},
   "outputs": [],
   "source": [
    "fig, ax = plt.subplots(1,1, figsize=(10,10))\n",
    "pysiaf.siaf.plot_all_apertures(detector_channels=True)\n",
    "ax.set_title(\"plot_all_apertures() with detector_channels=True\")"
   ]
  }
 ],
 "metadata": {
  "kernelspec": {
   "display_name": "Python 3",
   "language": "python",
   "name": "python3"
  },
  "language_info": {
   "codemirror_mode": {
    "name": "ipython",
    "version": 3
   },
   "file_extension": ".py",
   "mimetype": "text/x-python",
   "name": "python",
   "nbconvert_exporter": "python",
   "pygments_lexer": "ipython3",
   "version": "3.5.4"
  }
 },
 "nbformat": 4,
 "nbformat_minor": 2
}
