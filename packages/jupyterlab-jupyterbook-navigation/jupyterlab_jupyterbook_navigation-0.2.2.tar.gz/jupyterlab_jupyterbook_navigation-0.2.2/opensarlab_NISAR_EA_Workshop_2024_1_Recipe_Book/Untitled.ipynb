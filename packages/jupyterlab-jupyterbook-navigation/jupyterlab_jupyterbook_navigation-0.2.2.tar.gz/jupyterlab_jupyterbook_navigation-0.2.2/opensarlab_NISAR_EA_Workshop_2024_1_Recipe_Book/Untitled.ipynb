{
 "cells": [
  {
   "cell_type": "code",
   "execution_count": 1,
   "id": "a4ace5f2-29c6-4629-aa89-d7332bccb16e",
   "metadata": {},
   "outputs": [],
   "source": [
    "from pathlib import Path"
   ]
  },
  {
   "cell_type": "code",
   "execution_count": 10,
   "id": "4deea156-6828-45bc-b4a8-337259fe6b23",
   "metadata": {},
   "outputs": [],
   "source": [
    "def find_toc_in_parents(cwd):\n",
    "    current_dir = Path(cwd)\n",
    "    toc_pattern = \"_toc.yml\"\n",
    "    while True:\n",
    "        toc_pth = list(current_dir.glob(toc_pattern))\n",
    "        if toc_pth and len(toc_pth) == 1:\n",
    "            return toc_pth[0]\n",
    "        if current_dir == Path.home():\n",
    "            break\n",
    "        current_dir = current_dir.parent\n",
    "    return None"
   ]
  },
  {
   "cell_type": "code",
   "execution_count": 5,
   "id": "93b27857-e610-490d-b7cb-942a72974f8b",
   "metadata": {},
   "outputs": [
    {
     "name": "stdout",
     "output_type": "stream",
     "text": [
      "/Users/alexlewandowski/Documents/jupyterlab-jupyterbook-navigation/opensarlab_NISAR_EA_Workshop_2024_1_Recipe_Book\n"
     ]
    }
   ],
   "source": [
    "!pwd"
   ]
  },
  {
   "cell_type": "code",
   "execution_count": 11,
   "id": "d4b28838-9ff4-477c-b620-3dcae79db2b3",
   "metadata": {},
   "outputs": [
    {
     "name": "stdout",
     "output_type": "stream",
     "text": [
      "/Users/alexlewandowski/Documents/jupyterlab-jupyterbook-navigation/opensarlab_NISAR_EA_Workshop_2024_1_Recipe_Book/OPERA\n",
      "/Users/alexlewandowski/Documents/jupyterlab-jupyterbook-navigation/opensarlab_NISAR_EA_Workshop_2024_1_Recipe_Book\n"
     ]
    },
    {
     "data": {
      "text/plain": [
       "PosixPath('/Users/alexlewandowski/Documents/jupyterlab-jupyterbook-navigation/opensarlab_NISAR_EA_Workshop_2024_1_Recipe_Book/_toc.yml')"
      ]
     },
     "execution_count": 11,
     "metadata": {},
     "output_type": "execute_result"
    }
   ],
   "source": [
    "cwd = \"/Users/alexlewandowski/Documents/jupyterlab-jupyterbook-navigation/opensarlab_NISAR_EA_Workshop_2024_1_Recipe_Book/OPERA\"\n",
    "find_toc_in_parents(cwd)"
   ]
  },
  {
   "cell_type": "code",
   "execution_count": null,
   "id": "d0802352-44b1-4ccf-9c1e-9ae87da32b82",
   "metadata": {},
   "outputs": [],
   "source": []
  }
 ],
 "metadata": {
  "kernelspec": {
   "display_name": "Python 3 (ipykernel)",
   "language": "python",
   "name": "python3"
  },
  "language_info": {
   "codemirror_mode": {
    "name": "ipython",
    "version": 3
   },
   "file_extension": ".py",
   "mimetype": "text/x-python",
   "name": "python",
   "nbconvert_exporter": "python",
   "pygments_lexer": "ipython3",
   "version": "3.12.0"
  }
 },
 "nbformat": 4,
 "nbformat_minor": 5
}
