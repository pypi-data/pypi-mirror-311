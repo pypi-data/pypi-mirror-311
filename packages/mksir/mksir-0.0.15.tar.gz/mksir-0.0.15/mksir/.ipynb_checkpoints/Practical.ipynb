{
 "cells": [
  {
   "cell_type": "code",
   "execution_count": 6,
   "id": "1ee1a1f3-eaaf-4925-ab9f-6bc8bbf3285b",
   "metadata": {},
   "outputs": [
    {
     "data": {
      "text/html": [
       "<div>\n",
       "<style scoped>\n",
       "    .dataframe tbody tr th:only-of-type {\n",
       "        vertical-align: middle;\n",
       "    }\n",
       "\n",
       "    .dataframe tbody tr th {\n",
       "        vertical-align: top;\n",
       "    }\n",
       "\n",
       "    .dataframe thead th {\n",
       "        text-align: right;\n",
       "    }\n",
       "</style>\n",
       "<table border=\"1\" class=\"dataframe\">\n",
       "  <thead>\n",
       "    <tr style=\"text-align: right;\">\n",
       "      <th></th>\n",
       "      <th>CustomerID</th>\n",
       "      <th>Gender</th>\n",
       "      <th>Age</th>\n",
       "      <th>Annual Income (k$)</th>\n",
       "      <th>Spending Score (1-100)</th>\n",
       "    </tr>\n",
       "  </thead>\n",
       "  <tbody>\n",
       "    <tr>\n",
       "      <th>0</th>\n",
       "      <td>1</td>\n",
       "      <td>Male</td>\n",
       "      <td>19</td>\n",
       "      <td>15</td>\n",
       "      <td>39</td>\n",
       "    </tr>\n",
       "    <tr>\n",
       "      <th>1</th>\n",
       "      <td>2</td>\n",
       "      <td>Male</td>\n",
       "      <td>21</td>\n",
       "      <td>15</td>\n",
       "      <td>81</td>\n",
       "    </tr>\n",
       "    <tr>\n",
       "      <th>2</th>\n",
       "      <td>3</td>\n",
       "      <td>Female</td>\n",
       "      <td>20</td>\n",
       "      <td>16</td>\n",
       "      <td>6</td>\n",
       "    </tr>\n",
       "    <tr>\n",
       "      <th>3</th>\n",
       "      <td>4</td>\n",
       "      <td>Female</td>\n",
       "      <td>23</td>\n",
       "      <td>16</td>\n",
       "      <td>77</td>\n",
       "    </tr>\n",
       "    <tr>\n",
       "      <th>4</th>\n",
       "      <td>5</td>\n",
       "      <td>Female</td>\n",
       "      <td>31</td>\n",
       "      <td>17</td>\n",
       "      <td>40</td>\n",
       "    </tr>\n",
       "  </tbody>\n",
       "</table>\n",
       "</div>"
      ],
      "text/plain": [
       "   CustomerID  Gender  Age  Annual Income (k$)  Spending Score (1-100)\n",
       "0           1    Male   19                  15                      39\n",
       "1           2    Male   21                  15                      81\n",
       "2           3  Female   20                  16                       6\n",
       "3           4  Female   23                  16                      77\n",
       "4           5  Female   31                  17                      40"
      ]
     },
     "execution_count": 6,
     "metadata": {},
     "output_type": "execute_result"
    }
   ],
   "source": [
    "import pandas as pd\n",
    "import numpy as np\n",
    "import seaborn as sns\n",
    "from sklearn.cluster import DBSCAN\n",
    "from sklearn.cluster import AgglomerativeClustering\n",
    "from sklearn.cluster import KMeans\n",
    "from sklearn.preprocessing import MinMaxScaler\n",
    "from sklearn import preprocessing\n",
    "import matplotlib.pyplot as plt\n",
    "from sklearn.decomposition import PCA\n",
    "df=pd.read_csv('Mall_Customers.csv')\n",
    "df.head()"
   ]
  },
  {
   "cell_type": "code",
   "execution_count": 7,
   "id": "d2d88df5-275b-4669-a245-b34469316ee6",
   "metadata": {},
   "outputs": [
    {
     "name": "stdout",
     "output_type": "stream",
     "text": [
      "<class 'pandas.core.frame.DataFrame'>\n",
      "RangeIndex: 200 entries, 0 to 199\n",
      "Data columns (total 5 columns):\n",
      " #   Column                  Non-Null Count  Dtype \n",
      "---  ------                  --------------  ----- \n",
      " 0   CustomerID              200 non-null    int64 \n",
      " 1   Gender                  200 non-null    object\n",
      " 2   Age                     200 non-null    int64 \n",
      " 3   Annual Income (k$)      200 non-null    int64 \n",
      " 4   Spending Score (1-100)  200 non-null    int64 \n",
      "dtypes: int64(4), object(1)\n",
      "memory usage: 7.9+ KB\n"
     ]
    }
   ],
   "source": [
    "df.info()"
   ]
  },
  {
   "cell_type": "raw",
   "id": "475b7f25-846b-4257-ad39-403fee10a0f3",
   "metadata": {},
   "source": []
  },
  {
   "cell_type": "code",
   "execution_count": 10,
   "id": "76073d8c-a59c-4ceb-ae0a-fa85a7062c51",
   "metadata": {},
   "outputs": [
    {
     "data": {
      "text/plain": [
       "array([1, 0])"
      ]
     },
     "execution_count": 10,
     "metadata": {},
     "output_type": "execute_result"
    }
   ],
   "source": [
    "from sklearn.preprocessing import LabelEncoder\n",
    "LE = LabelEncoder()\n",
    "df['Gender']=LE.fit_transform(df['Gender'])\n",
    "df['Gender'].unique()"
   ]
  },
  {
   "cell_type": "code",
   "execution_count": 11,
   "id": "6d924552-58cb-4858-8046-6b2e88710b73",
   "metadata": {},
   "outputs": [
    {
     "data": {
      "text/html": [
       "<div>\n",
       "<style scoped>\n",
       "    .dataframe tbody tr th:only-of-type {\n",
       "        vertical-align: middle;\n",
       "    }\n",
       "\n",
       "    .dataframe tbody tr th {\n",
       "        vertical-align: top;\n",
       "    }\n",
       "\n",
       "    .dataframe thead th {\n",
       "        text-align: right;\n",
       "    }\n",
       "</style>\n",
       "<table border=\"1\" class=\"dataframe\">\n",
       "  <thead>\n",
       "    <tr style=\"text-align: right;\">\n",
       "      <th></th>\n",
       "      <th>CustomerID</th>\n",
       "      <th>Gender</th>\n",
       "      <th>Age</th>\n",
       "      <th>Annual Income (k$)</th>\n",
       "      <th>Spending Score (1-100)</th>\n",
       "    </tr>\n",
       "  </thead>\n",
       "  <tbody>\n",
       "    <tr>\n",
       "      <th>0</th>\n",
       "      <td>1</td>\n",
       "      <td>1</td>\n",
       "      <td>19</td>\n",
       "      <td>15</td>\n",
       "      <td>39</td>\n",
       "    </tr>\n",
       "    <tr>\n",
       "      <th>1</th>\n",
       "      <td>2</td>\n",
       "      <td>1</td>\n",
       "      <td>21</td>\n",
       "      <td>15</td>\n",
       "      <td>81</td>\n",
       "    </tr>\n",
       "    <tr>\n",
       "      <th>2</th>\n",
       "      <td>3</td>\n",
       "      <td>0</td>\n",
       "      <td>20</td>\n",
       "      <td>16</td>\n",
       "      <td>6</td>\n",
       "    </tr>\n",
       "    <tr>\n",
       "      <th>3</th>\n",
       "      <td>4</td>\n",
       "      <td>0</td>\n",
       "      <td>23</td>\n",
       "      <td>16</td>\n",
       "      <td>77</td>\n",
       "    </tr>\n",
       "    <tr>\n",
       "      <th>4</th>\n",
       "      <td>5</td>\n",
       "      <td>0</td>\n",
       "      <td>31</td>\n",
       "      <td>17</td>\n",
       "      <td>40</td>\n",
       "    </tr>\n",
       "  </tbody>\n",
       "</table>\n",
       "</div>"
      ],
      "text/plain": [
       "   CustomerID  Gender  Age  Annual Income (k$)  Spending Score (1-100)\n",
       "0           1       1   19                  15                      39\n",
       "1           2       1   21                  15                      81\n",
       "2           3       0   20                  16                       6\n",
       "3           4       0   23                  16                      77\n",
       "4           5       0   31                  17                      40"
      ]
     },
     "execution_count": 11,
     "metadata": {},
     "output_type": "execute_result"
    }
   ],
   "source": [
    "df.head()"
   ]
  },
  {
   "cell_type": "code",
   "execution_count": 13,
   "id": "e85b03f6-10b0-4558-9660-8ccb3ae6abac",
   "metadata": {},
   "outputs": [
    {
     "data": {
      "text/plain": [
       "array([[-1.09383941e+02, -5.47845404e+00],\n",
       "       [-1.08202857e+02,  3.49317649e+01],\n",
       "       [-1.07376292e+02, -3.78408717e+01],\n",
       "       [-1.06007807e+02,  3.05626965e+01],\n",
       "       [-1.04980323e+02, -7.29674715e+00],\n",
       "       [-1.03774723e+02,  2.98012381e+01],\n",
       "       [-1.02996481e+02, -4.13227699e+01],\n",
       "       [-1.01426745e+02,  4.70713035e+01],\n",
       "       [-1.00952191e+02, -5.09237382e+01],\n",
       "       [-9.93805223e+01,  2.40346077e+01],\n",
       "       [-9.90706564e+01, -4.09178725e+01],\n",
       "       [-9.74040858e+01,  4.91523683e+01],\n",
       "       [-9.67777825e+01, -3.78938689e+01],\n",
       "       [-9.52523148e+01,  3.02508027e+01],\n",
       "       [-9.48417033e+01, -3.50274282e+01],\n",
       "       [-9.34009908e+01,  3.26452221e+01],\n",
       "       [-9.24499251e+01, -1.31741290e+01],\n",
       "       [-9.12420152e+01,  2.04349779e+01],\n",
       "       [-8.99471970e+01, -2.29456992e+01],\n",
       "       [-8.84752130e+01,  4.81072460e+01],\n",
       "       [-8.75736418e+01, -1.32190190e+01],\n",
       "       [-8.63488497e+01,  2.60551150e+01],\n",
       "       [-8.56046385e+01, -4.49591024e+01],\n",
       "       [-8.41501483e+01,  2.46587601e+01],\n",
       "       [-8.25415544e+01, -3.80714828e+01],\n",
       "       [-8.10284260e+01,  3.38436742e+01],\n",
       "       [-8.05430035e+01, -1.84963963e+01],\n",
       "       [-7.93777413e+01,  1.20176440e+01],\n",
       "       [-7.82864644e+01, -1.83389368e+01],\n",
       "       [-7.69006676e+01,  4.00610763e+01],\n",
       "       [-7.63493444e+01, -4.92293707e+01],\n",
       "       [-7.47483563e+01,  2.68776225e+01],\n",
       "       [-7.32582819e+01, -4.76546958e+01],\n",
       "       [-7.15536778e+01,  4.60231551e+01],\n",
       "       [-7.13428138e+01, -3.70127264e+01],\n",
       "       [-6.98192074e+01,  3.46196165e+01],\n",
       "       [-6.90478898e+01, -3.25029695e+01],\n",
       "       [-6.76914121e+01,  2.47483963e+01],\n",
       "       [-6.59027122e+01, -2.23991376e+01],\n",
       "       [-6.45694296e+01,  2.89586788e+01],\n",
       "       [-6.37788997e+01, -2.03203835e+01],\n",
       "       [-6.22452579e+01,  4.45651391e+01],\n",
       "       [-6.14382171e+01, -1.54609584e+01],\n",
       "       [-6.02594636e+01,  1.27707639e+01],\n",
       "       [-5.96720260e+01, -2.34854093e+01],\n",
       "       [-5.83659410e+01,  1.82614569e+01],\n",
       "       [-5.72640686e+01,  2.54354260e+00],\n",
       "       [-5.62696061e+01,  3.65173926e-02],\n",
       "       [-5.54017461e+01, -5.29411538e+00],\n",
       "       [-5.45005644e+01, -5.75870011e+00],\n",
       "       [-5.28104292e+01, -1.82313125e-01],\n",
       "       [-5.17499351e+01,  1.12727021e+01],\n",
       "       [-5.04576675e+01,  5.88125813e+00],\n",
       "       [-4.96685101e+01,  5.28175811e+00],\n",
       "       [-4.88032404e+01, -7.25273965e+00],\n",
       "       [-4.78989479e+01, -1.04627226e+01],\n",
       "       [-4.65418983e+01, -2.63439923e+00],\n",
       "       [-4.57607461e+01, -1.06687008e+01],\n",
       "       [-4.37525523e+01,  3.82661261e+00],\n",
       "       [-4.30249749e+01, -7.01873422e+00],\n",
       "       [-4.21451073e+01, -1.19716468e+00],\n",
       "       [-4.09398074e+01,  9.54070216e+00],\n",
       "       [-3.99207379e+01, -4.41758582e+00],\n",
       "       [-3.88849486e+01,  5.37623857e+00],\n",
       "       [-3.76696136e+01, -4.49106288e+00],\n",
       "       [-3.64395177e+01,  1.36273137e+01],\n",
       "       [-3.57336320e+01, -8.78727891e-01],\n",
       "       [-3.49806469e+01, -8.57350933e+00],\n",
       "       [-3.37066536e+01,  1.33822068e+01],\n",
       "       [-3.29503950e+01, -1.28671014e+00],\n",
       "       [-3.17984815e+01, -2.24481205e+00],\n",
       "       [-3.08377897e+01, -9.61667821e+00],\n",
       "       [-2.95463941e+01, -5.80354622e+00],\n",
       "       [-2.85868345e+01,  1.00379524e+00],\n",
       "       [-2.60953285e+01, -7.56260092e+00],\n",
       "       [-2.49422628e+01,  6.82581260e+00],\n",
       "       [-2.41478795e+01,  1.48382461e+00],\n",
       "       [-2.32385236e+01, -2.23990908e+00],\n",
       "       [-2.21997211e+01,  5.55441141e+00],\n",
       "       [-2.15059145e+01, -1.01557764e+01],\n",
       "       [-2.05794877e+01, -3.24105843e+00],\n",
       "       [-1.95285085e+01,  5.01151387e+00],\n",
       "       [-1.88789506e+01, -1.52807007e+01],\n",
       "       [-1.78233572e+01, -7.54067202e+00],\n",
       "       [-1.66772160e+01,  1.08491635e+01],\n",
       "       [-1.59954885e+01, -6.06517043e+00],\n",
       "       [-1.38199059e+01,  3.97814034e+00],\n",
       "       [-1.27334835e+01,  8.63445775e+00],\n",
       "       [-1.14495527e+01,  1.07309000e+01],\n",
       "       [-1.07237652e+01, -6.57483169e+00],\n",
       "       [-9.44836001e+00, -1.96392777e+00],\n",
       "       [-8.33511124e+00, -4.10872242e+00],\n",
       "       [-7.13673622e+00, -3.22778159e+00],\n",
       "       [-6.23734440e+00, -1.01527511e+01],\n",
       "       [-5.26419587e+00, -6.37362208e+00],\n",
       "       [-4.23728363e+00,  5.18997676e+00],\n",
       "       [-3.49301293e+00, -4.96376749e+00],\n",
       "       [-2.44283422e+00,  2.54532465e+00],\n",
       "       [-1.29786504e+00, -1.00787303e+01],\n",
       "       [-1.74118443e-01,  3.16103596e+00],\n",
       "       [ 1.07550138e+00, -5.32547456e+00],\n",
       "       [ 1.88260165e+00, -4.49109895e+00],\n",
       "       [ 2.76371888e+00,  2.07274365e+00],\n",
       "       [ 3.89038751e+00,  7.59368709e+00],\n",
       "       [ 4.67509326e+00,  3.27799340e+00],\n",
       "       [ 5.65843985e+00, -3.91843508e+00],\n",
       "       [ 6.76885755e+00, -6.48343609e+00],\n",
       "       [ 7.72592445e+00, -7.62585397e+00],\n",
       "       [ 8.53674726e+00, -1.37668210e+01],\n",
       "       [ 9.49470586e+00, -8.44643984e+00],\n",
       "       [ 1.04401363e+01, -4.32899775e+00],\n",
       "       [ 1.16356610e+01,  8.18105774e+00],\n",
       "       [ 1.27652514e+01, -7.87516962e+00],\n",
       "       [ 1.38166797e+01,  3.76195581e-01],\n",
       "       [ 1.51563981e+01,  2.54069900e+00],\n",
       "       [ 1.60767722e+01,  4.25226295e+00],\n",
       "       [ 1.66850231e+01, -1.26734262e+01],\n",
       "       [ 1.77866552e+01,  6.10901414e+00],\n",
       "       [ 1.93973389e+01, -9.94237746e+00],\n",
       "       [ 2.04094127e+01,  3.90716074e+00],\n",
       "       [ 2.14509746e+01,  8.21139571e+00],\n",
       "       [ 2.21923035e+01, -9.89090079e+00],\n",
       "       [ 2.40295745e+01,  7.14683438e+00],\n",
       "       [ 2.51687196e+01,  3.94861481e+01],\n",
       "       [ 2.61698782e+01, -1.71888218e+01],\n",
       "       [ 2.73557648e+01,  2.76822781e+01],\n",
       "       [ 2.83269211e+01, -1.59633385e+01],\n",
       "       [ 2.96572817e+01,  4.31133007e+01],\n",
       "       [ 2.98989746e+01, -4.30062921e+01],\n",
       "       [ 3.13615413e+01,  2.40983158e+01],\n",
       "       [ 3.17818304e+01, -4.22062094e+01],\n",
       "       [ 3.31814961e+01,  2.38583347e+01],\n",
       "       [ 3.43108780e+01, -1.28386922e+01],\n",
       "       [ 3.54351846e+01,  2.17865608e+01],\n",
       "       [ 3.63812648e+01, -3.99323089e+01],\n",
       "       [ 3.77940901e+01,  3.87726050e+01],\n",
       "       [ 3.80792313e+01, -4.35084412e+01],\n",
       "       [ 3.95028014e+01,  2.34738137e+01],\n",
       "       [ 4.04801532e+01, -3.48647612e+01],\n",
       "       [ 4.17119808e+01,  2.17946447e+01],\n",
       "       [ 4.24574416e+01, -4.84772996e+01],\n",
       "       [ 4.41038566e+01,  4.29020496e+01],\n",
       "       [ 4.50946283e+01, -7.77078722e+00],\n",
       "       [ 4.62973058e+01,  3.70460208e+01],\n",
       "       [ 4.71599518e+01, -3.43506532e+01],\n",
       "       [ 4.86217378e+01,  4.76778495e+01],\n",
       "       [ 4.90108465e+01, -1.62876517e+01],\n",
       "       [ 5.02703724e+01,  2.43660661e+01],\n",
       "       [ 5.12330746e+01, -2.67131449e+01],\n",
       "       [ 5.25996074e+01,  3.94587757e+01],\n",
       "       [ 5.29732462e+01, -3.36582168e+01],\n",
       "       [ 5.43827783e+01,  3.63534576e+01],\n",
       "       [ 5.48127449e+01, -3.09773619e+01],\n",
       "       [ 5.61340396e+01,  2.48956272e+01],\n",
       "       [ 5.65943147e+01, -3.55696404e+01],\n",
       "       [ 5.81109966e+01,  4.00641245e+01],\n",
       "       [ 5.83792556e+01, -4.78819487e+01],\n",
       "       [ 5.98459161e+01,  2.86593788e+01],\n",
       "       [ 6.02226657e+01, -4.72030119e+01],\n",
       "       [ 6.16384130e+01,  2.37830791e+01],\n",
       "       [ 6.25536841e+01, -1.91847043e+01],\n",
       "       [ 6.39448044e+01,  3.37269265e+01],\n",
       "       [ 6.52131146e+01, -3.99079146e+01],\n",
       "       [ 6.66416701e+01,  4.29738590e+01],\n",
       "       [ 6.86293685e+01, -2.66332837e+01],\n",
       "       [ 6.99504744e+01,  2.42662809e+01],\n",
       "       [ 7.08701774e+01, -3.06526839e+01],\n",
       "       [ 7.23352368e+01,  4.44016833e+01],\n",
       "       [ 7.31854458e+01, -2.24786110e+01],\n",
       "       [ 7.43621754e+01,  1.34695199e+01],\n",
       "       [ 7.48949576e+01, -3.70339221e+01],\n",
       "       [ 7.62914212e+01,  2.60567015e+01],\n",
       "       [ 7.67242385e+01, -3.90448847e+01],\n",
       "       [ 7.81836229e+01,  4.07531776e+01],\n",
       "       [ 7.88838456e+01, -3.98176982e+01],\n",
       "       [ 8.04122551e+01,  3.62755256e+01],\n",
       "       [ 8.06882590e+01, -3.92611145e+01],\n",
       "       [ 8.21428206e+01,  2.04086918e+01],\n",
       "       [ 8.45418779e+01, -4.05129379e+01],\n",
       "       [ 8.61020080e+01,  3.89593736e+01],\n",
       "       [ 8.82484722e+01, -1.79810676e+01],\n",
       "       [ 8.95505745e+01,  3.57157728e+01],\n",
       "       [ 9.03167375e+01, -3.66123814e+01],\n",
       "       [ 9.18153789e+01,  3.83334023e+01],\n",
       "       [ 9.27394358e+01, -1.21234745e+01],\n",
       "       [ 9.41038274e+01,  4.68433740e+01],\n",
       "       [ 9.52051912e+01, -2.97338063e+01],\n",
       "       [ 9.65642394e+01,  1.90540495e+01],\n",
       "       [ 9.78767205e+01, -3.35854954e+01],\n",
       "       [ 9.92721234e+01,  3.37362796e+01],\n",
       "       [ 9.97835718e+01, -2.61483832e+01],\n",
       "       [ 1.01014768e+02,  1.90735920e+01],\n",
       "       [ 1.05596395e+02, -4.06055221e+01],\n",
       "       [ 1.07032676e+02,  3.90183096e+01],\n",
       "       [ 1.10249446e+02, -3.60991880e+01],\n",
       "       [ 1.11652574e+02,  2.79646451e+01],\n",
       "       [ 1.14615358e+02, -2.40178247e+01],\n",
       "       [ 1.15911505e+02,  2.37299674e+01],\n",
       "       [ 1.20939935e+02, -3.08598887e+01],\n",
       "       [ 1.22297753e+02,  3.28530691e+01]])"
      ]
     },
     "execution_count": 13,
     "metadata": {},
     "output_type": "execute_result"
    }
   ],
   "source": [
    "pca = PCA(n_components=2)\n",
    "r_data = pca.fit_transform(df)\n",
    "r_data"
   ]
  },
  {
   "cell_type": "code",
   "execution_count": 15,
   "id": "8114883a-0488-4dfb-83e6-ff2f8f17fecb",
   "metadata": {},
   "outputs": [],
   "source": [
    "data=preprocessing.scale(r_data)"
   ]
  },
  {
   "cell_type": "code",
   "execution_count": 16,
   "id": "b380e28c-cb4a-4bfb-b14e-7b64a6eff1a0",
   "metadata": {},
   "outputs": [
    {
     "data": {
      "text/html": [
       "<div>\n",
       "<style scoped>\n",
       "    .dataframe tbody tr th:only-of-type {\n",
       "        vertical-align: middle;\n",
       "    }\n",
       "\n",
       "    .dataframe tbody tr th {\n",
       "        vertical-align: top;\n",
       "    }\n",
       "\n",
       "    .dataframe thead th {\n",
       "        text-align: right;\n",
       "    }\n",
       "</style>\n",
       "<table border=\"1\" class=\"dataframe\">\n",
       "  <thead>\n",
       "    <tr style=\"text-align: right;\">\n",
       "      <th></th>\n",
       "      <th>X</th>\n",
       "      <th>Y</th>\n",
       "    </tr>\n",
       "  </thead>\n",
       "  <tbody>\n",
       "    <tr>\n",
       "      <th>0</th>\n",
       "      <td>-1.730708</td>\n",
       "      <td>-0.208398</td>\n",
       "    </tr>\n",
       "    <tr>\n",
       "      <th>1</th>\n",
       "      <td>-1.712020</td>\n",
       "      <td>1.328786</td>\n",
       "    </tr>\n",
       "    <tr>\n",
       "      <th>2</th>\n",
       "      <td>-1.698942</td>\n",
       "      <td>-1.439447</td>\n",
       "    </tr>\n",
       "    <tr>\n",
       "      <th>3</th>\n",
       "      <td>-1.677289</td>\n",
       "      <td>1.162589</td>\n",
       "    </tr>\n",
       "    <tr>\n",
       "      <th>4</th>\n",
       "      <td>-1.661032</td>\n",
       "      <td>-0.277564</td>\n",
       "    </tr>\n",
       "  </tbody>\n",
       "</table>\n",
       "</div>"
      ],
      "text/plain": [
       "          X         Y\n",
       "0 -1.730708 -0.208398\n",
       "1 -1.712020  1.328786\n",
       "2 -1.698942 -1.439447\n",
       "3 -1.677289  1.162589\n",
       "4 -1.661032 -0.277564"
      ]
     },
     "execution_count": 16,
     "metadata": {},
     "output_type": "execute_result"
    }
   ],
   "source": [
    "data=pd.DataFrame(data,columns=['X','Y'])\n",
    "data.head()"
   ]
  },
  {
   "cell_type": "code",
   "execution_count": 17,
   "id": "2d36bfe9-345f-45d6-8a97-68955aa1038f",
   "metadata": {},
   "outputs": [],
   "source": [
    "sse=[]\n",
    "for k in range(1,10):\n",
    "    km = KMeans(n_clusters=k)\n",
    "    km.fit(data)\n",
    "    sse.append(km.inertia_)"
   ]
  },
  {
   "cell_type": "code",
   "execution_count": 18,
   "id": "b3ce8a87-b3e6-4747-81d8-cc93668ec45d",
   "metadata": {},
   "outputs": [
    {
     "data": {
      "text/plain": [
       "Text(0, 0.5, 'sum of squared error')"
      ]
     },
     "execution_count": 18,
     "metadata": {},
     "output_type": "execute_result"
    },
    {
     "data": {
      "image/png": "[encoded data removed]",
      "text/plain": [
       "<Figure size 640x480 with 1 Axes>"
      ]
     },
     "metadata": {},
     "output_type": "display_data"
    }
   ],
   "source": [
    "sns.pointplot(x=np.arange(1,10),y=sse)\n",
    "plt.title('Elbow plot K-selection')\n",
    "plt.xlabel('k value')\n",
    "plt.ylabel('sum of squared error')\n"
   ]
  },
  {
   "cell_type": "code",
   "execution_count": 19,
   "id": "50c130a8-9b14-40f4-ab63-1fcc31c7afec",
   "metadata": {},
   "outputs": [
    {
     "name": "stdout",
     "output_type": "stream",
     "text": [
      "Collecting kneedNote: you may need to restart the kernel to use updated packages.\n",
      "\n",
      "  Downloading kneed-0.8.5-py3-none-any.whl.metadata (5.5 kB)\n",
      "Requirement already satisfied: numpy>=1.14.2 in c:\\users\\dell\\appdata\\local\\programs\\python\\python312\\lib\\site-packages (from kneed) (2.0.1)\n",
      "Requirement already satisfied: scipy>=1.0.0 in c:\\users\\dell\\appdata\\local\\programs\\python\\python312\\lib\\site-packages (from kneed) (1.14.1)\n",
      "Downloading kneed-0.8.5-py3-none-any.whl (10 kB)\n",
      "Installing collected packages: kneed\n",
      "Successfully installed kneed-0.8.5\n"
     ]
    }
   ],
   "source": [
    "pip install kneed"
   ]
  },
  {
   "cell_type": "code",
   "execution_count": 21,
   "id": "f63e42cd-3623-4a9d-a2b6-49e42bdf4532",
   "metadata": {},
   "outputs": [],
   "source": [
    "from kneed import KneeLocator\n",
    "kl = KneeLocator(np.arange(1,10),sse,S=1.0,curve='convex',direction='decreasing')"
   ]
  },
  {
   "cell_type": "code",
   "execution_count": 24,
   "id": "83901791-481c-492c-8705-266a34e42fb5",
   "metadata": {},
   "outputs": [
    {
     "name": "stdout",
     "output_type": "stream",
     "text": [
      "5\n"
     ]
    }
   ],
   "source": [
    "print(kl.elbow)"
   ]
  },
  {
   "cell_type": "code",
   "execution_count": 25,
   "id": "3d2ee09f-6d3d-45c1-936b-54dfbec0f1bc",
   "metadata": {},
   "outputs": [
    {
     "data": {
      "image/png": "[encoded data removed]",
      "text/plain": [
       "<Figure size 600x600 with 1 Axes>"
      ]
     },
     "metadata": {},
     "output_type": "display_data"
    }
   ],
   "source": [
    "kl.plot_knee()"
   ]
  },
  {
   "cell_type": "code",
   "execution_count": 27,
   "id": "93547b64-227d-4b19-85df-a8c3f9d3e6d1",
   "metadata": {},
   "outputs": [],
   "source": [
    "kmeans=KMeans(n_clusters=4)\n",
    "cluster=kmeans.fit_predict(data[['X','Y']])"
   ]
  },
  {
   "cell_type": "code",
   "execution_count": 28,
   "id": "7875ae13-2d0d-4f51-8ade-4b1d416e65f8",
   "metadata": {},
   "outputs": [],
   "source": [
    "kmeans=KMeans(n_clusters=4)"
   ]
  },
  {
   "cell_type": "code",
   "execution_count": 31,
   "id": "e36a7ea4-21d5-4931-b67f-8520ad48d9b7",
   "metadata": {},
   "outputs": [],
   "source": [
    "cluster=kmeans.fit_predict(data[['X','Y']])"
   ]
  },
  {
   "cell_type": "code",
   "execution_count": 32,
   "id": "8ea8b7dd-b151-4cf8-979d-c0ed8b6761c9",
   "metadata": {},
   "outputs": [],
   "source": [
    "data['cluster'] = cluster"
   ]
  },
  {
   "cell_type": "code",
   "execution_count": 33,
   "id": "b7a45160-3f1e-4968-a280-3748179fa4c9",
   "metadata": {},
   "outputs": [
    {
     "data": {
      "text/html": [
       "<div>\n",
       "<style scoped>\n",
       "    .dataframe tbody tr th:only-of-type {\n",
       "        vertical-align: middle;\n",
       "    }\n",
       "\n",
       "    .dataframe tbody tr th {\n",
       "        vertical-align: top;\n",
       "    }\n",
       "\n",
       "    .dataframe thead th {\n",
       "        text-align: right;\n",
       "    }\n",
       "</style>\n",
       "<table border=\"1\" class=\"dataframe\">\n",
       "  <thead>\n",
       "    <tr style=\"text-align: right;\">\n",
       "      <th></th>\n",
       "      <th>X</th>\n",
       "      <th>Y</th>\n",
       "      <th>cluster</th>\n",
       "    </tr>\n",
       "  </thead>\n",
       "  <tbody>\n",
       "    <tr>\n",
       "      <th>0</th>\n",
       "      <td>-1.730708</td>\n",
       "      <td>-0.208398</td>\n",
       "      <td>2</td>\n",
       "    </tr>\n",
       "    <tr>\n",
       "      <th>1</th>\n",
       "      <td>-1.712020</td>\n",
       "      <td>1.328786</td>\n",
       "      <td>0</td>\n",
       "    </tr>\n",
       "    <tr>\n",
       "      <th>2</th>\n",
       "      <td>-1.698942</td>\n",
       "      <td>-1.439447</td>\n",
       "      <td>2</td>\n",
       "    </tr>\n",
       "    <tr>\n",
       "      <th>3</th>\n",
       "      <td>-1.677289</td>\n",
       "      <td>1.162589</td>\n",
       "      <td>0</td>\n",
       "    </tr>\n",
       "    <tr>\n",
       "      <th>4</th>\n",
       "      <td>-1.661032</td>\n",
       "      <td>-0.277564</td>\n",
       "      <td>2</td>\n",
       "    </tr>\n",
       "  </tbody>\n",
       "</table>\n",
       "</div>"
      ],
      "text/plain": [
       "          X         Y  cluster\n",
       "0 -1.730708 -0.208398        2\n",
       "1 -1.712020  1.328786        0\n",
       "2 -1.698942 -1.439447        2\n",
       "3 -1.677289  1.162589        0\n",
       "4 -1.661032 -0.277564        2"
      ]
     },
     "execution_count": 33,
     "metadata": {},
     "output_type": "execute_result"
    }
   ],
   "source": [
    "data.head()"
   ]
  },
  {
   "cell_type": "code",
   "execution_count": 34,
   "id": "1c6c1e7c-af92-47a1-9f77-b978c1b94686",
   "metadata": {},
   "outputs": [
    {
     "data": {
      "text/plain": [
       "cluster\n",
       "2    100\n",
       "3     39\n",
       "1     38\n",
       "0     23\n",
       "Name: count, dtype: int64"
      ]
     },
     "execution_count": 34,
     "metadata": {},
     "output_type": "execute_result"
    }
   ],
   "source": [
    "data['cluster'].value_counts()"
   ]
  },
  {
   "cell_type": "code",
   "execution_count": 36,
   "id": "136dffec-af71-405d-a43a-eb95c2e088d5",
   "metadata": {},
   "outputs": [],
   "source": [
    "df1=data[data['cluster']==0]\n",
    "df2=data[data['cluster']==1]\n",
    "df3=data[data['cluster']==2]\n",
    "df4=data[data['cluster']==3]"
   ]
  },
  {
   "cell_type": "code",
   "execution_count": 42,
   "id": "50f4f537-e42f-4cf2-8128-f75aac816f1f",
   "metadata": {},
   "outputs": [
    {
     "data": {
      "text/plain": [
       "<matplotlib.legend.Legend at 0x24ae09deba0>"
      ]
     },
     "execution_count": 42,
     "metadata": {},
     "output_type": "execute_result"
    },
    {
     "data": {
      "image/png": "[encoded data removed]",
      "text/plain": [
       "<Figure size 1000x700 with 1 Axes>"
      ]
     },
     "metadata": {},
     "output_type": "display_data"
    }
   ],
   "source": [
    "plt.figure(figsize=(10,7))\n",
    "plt.scatter(df1.values[:,0],df1.values[:,1],color='blue',label='Cluster 1', edgecolors='black',s=100)\n",
    "plt.scatter(df2.values[:,0],df2.values[:,1],color='red',label='Cluster 2', edgecolors='black',s=100)\n",
    "plt.scatter(df3.values[:,0],df3.values[:,1],color='green',label='Cluster 3', edgecolors='black',s=100)\n",
    "plt.scatter(df4.values[:,0],df4.values[:,1],color='pink',label='Cluster 4', edgecolors='black',s=100)\n",
    "plt.xlabel('X')\n",
    "plt.ylabel('Y')\n",
    "plt.scatter(kmeans.cluster_centers_[:,0],kmeans.cluster_centers_[:,1],marker='X',color='yellow',label='Centroid')\n",
    "plt.legend()"
   ]
  },
  {
   "cell_type": "code",
   "execution_count": 43,
   "id": "c5e76367-5ccc-4f7c-9d68-a2fa999542f3",
   "metadata": {},
   "outputs": [
    {
     "data": {
      "text/html": [
       "<div>\n",
       "<style scoped>\n",
       "    .dataframe tbody tr th:only-of-type {\n",
       "        vertical-align: middle;\n",
       "    }\n",
       "\n",
       "    .dataframe tbody tr th {\n",
       "        vertical-align: top;\n",
       "    }\n",
       "\n",
       "    .dataframe thead th {\n",
       "        text-align: right;\n",
       "    }\n",
       "</style>\n",
       "<table border=\"1\" class=\"dataframe\">\n",
       "  <thead>\n",
       "    <tr style=\"text-align: right;\">\n",
       "      <th></th>\n",
       "      <th>X</th>\n",
       "      <th>Y</th>\n",
       "      <th>cluster</th>\n",
       "    </tr>\n",
       "  </thead>\n",
       "  <tbody>\n",
       "    <tr>\n",
       "      <th>0</th>\n",
       "      <td>-1.730708</td>\n",
       "      <td>-0.208398</td>\n",
       "      <td>0</td>\n",
       "    </tr>\n",
       "    <tr>\n",
       "      <th>1</th>\n",
       "      <td>-1.712020</td>\n",
       "      <td>1.328786</td>\n",
       "      <td>1</td>\n",
       "    </tr>\n",
       "    <tr>\n",
       "      <th>2</th>\n",
       "      <td>-1.698942</td>\n",
       "      <td>-1.439447</td>\n",
       "      <td>0</td>\n",
       "    </tr>\n",
       "    <tr>\n",
       "      <th>3</th>\n",
       "      <td>-1.677289</td>\n",
       "      <td>1.162589</td>\n",
       "      <td>1</td>\n",
       "    </tr>\n",
       "    <tr>\n",
       "      <th>4</th>\n",
       "      <td>-1.661032</td>\n",
       "      <td>-0.277564</td>\n",
       "      <td>0</td>\n",
       "    </tr>\n",
       "  </tbody>\n",
       "</table>\n",
       "</div>"
      ],
      "text/plain": [
       "          X         Y  cluster\n",
       "0 -1.730708 -0.208398        0\n",
       "1 -1.712020  1.328786        1\n",
       "2 -1.698942 -1.439447        0\n",
       "3 -1.677289  1.162589        1\n",
       "4 -1.661032 -0.277564        0"
      ]
     },
     "execution_count": 43,
     "metadata": {},
     "output_type": "execute_result"
    }
   ],
   "source": [
    "db=DBSCAN(eps=1.0,metric='euclidean')\n",
    "pr=db.fit_predict(data)\n",
    "data['cluster']=pr\n",
    "data.head()"
   ]
  },
  {
   "cell_type": "code",
   "execution_count": null,
   "id": "b44c6596-f2dc-4f44-ac92-1f12b5d0fbad",
   "metadata": {},
   "outputs": [],
   "source": []
  },
  {
   "cell_type": "code",
   "execution_count": null,
   "id": "82310f88-9607-43e9-83e6-a4e6ce1ca276",
   "metadata": {},
   "outputs": [],
   "source": []
  }
 ],
 "metadata": {
  "kernelspec": {
   "display_name": "Python 3 (ipykernel)",
   "language": "python",
   "name": "python3"
  },
  "language_info": {
   "codemirror_mode": {
    "name": "ipython",
    "version": 3
   },
   "file_extension": ".py",
   "mimetype": "text/x-python",
   "name": "python",
   "nbconvert_exporter": "python",
   "pygments_lexer": "ipython3",
   "version": "3.12.5"
  }
 },
 "nbformat": 4,
 "nbformat_minor": 5
}
