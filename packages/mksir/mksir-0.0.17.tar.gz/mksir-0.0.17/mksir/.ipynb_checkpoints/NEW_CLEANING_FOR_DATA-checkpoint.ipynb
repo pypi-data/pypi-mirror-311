{
 "cells": [
  {
   "cell_type": "code",
   "execution_count": null,
   "id": "0d12bb2e-12df-4c12-80db-3d34df5a7e96",
   "metadata": {},
   "outputs": [],
   "source": [
    "#this was done to RE-CLEAN"
   ]
  },
  {
   "cell_type": "code",
   "execution_count": null,
   "id": "0acb0247-76d3-445b-8657-4edcd49eb001",
   "metadata": {},
   "outputs": [],
   "source": []
  }
 ],
 "metadata": {
  "kernelspec": {
   "display_name": "Python 3 (ipykernel)",
   "language": "python",
   "name": "python3"
  },
  "language_info": {
   "codemirror_mode": {
    "name": "ipython",
    "version": 3
   },
   "file_extension": ".py",
   "mimetype": "text/x-python",
   "name": "python",
   "nbconvert_exporter": "python",
   "pygments_lexer": "ipython3",
   "version": "3.12.5"
  }
 },
 "nbformat": 4,
 "nbformat_minor": 5
}
