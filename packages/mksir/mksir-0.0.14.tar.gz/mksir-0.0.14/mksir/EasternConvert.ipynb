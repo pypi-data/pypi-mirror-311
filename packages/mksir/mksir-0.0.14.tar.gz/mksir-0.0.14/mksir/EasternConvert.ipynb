{
 "cells": [
  {
   "cell_type": "code",
   "execution_count": 10,
   "id": "6d0273e1-6d0c-4235-b29b-89faff30d8b7",
   "metadata": {},
   "outputs": [
    {
     "data": {
      "text/plain": [
       "(4188, 19)"
      ]
     },
     "execution_count": 10,
     "metadata": {},
     "output_type": "execute_result"
    }
   ],
   "source": [
    "import pandas as pd\n",
    "# we converted rainSDM.csv to Eastern-gangatic\n",
    "df=pd.read_csv('rainSDM.csv')\n",
    "df2=df.loc[(df['SUBDIVISION'] == 'Gangetic West Bengal') | (df['SUBDIVISION'] == 'Assam & Meghalaya' ) | (df['SUBDIVISION'] =='Bihar') | (df['SUBDIVISION'] =='East Uttar Pradesh')|(df['SUBDIVISION']=='Jharkhand')]\n",
    "df2.to_csv('Eastern-Gangatic-Plain.csv',index=True)\n"
   ]
  },
  {
   "cell_type": "code",
   "execution_count": null,
   "id": "10f9f8bb-668c-438c-a587-e0605bc3676d",
   "metadata": {},
   "outputs": [],
   "source": []
  },
  {
   "cell_type": "code",
   "execution_count": null,
   "id": "97847512-f7de-4adc-b277-216d726252c1",
   "metadata": {},
   "outputs": [],
   "source": []
  }
 ],
 "metadata": {
  "kernelspec": {
   "display_name": "Python 3 (ipykernel)",
   "language": "python",
   "name": "python3"
  },
  "language_info": {
   "codemirror_mode": {
    "name": "ipython",
    "version": 3
   },
   "file_extension": ".py",
   "mimetype": "text/x-python",
   "name": "python",
   "nbconvert_exporter": "python",
   "pygments_lexer": "ipython3",
   "version": "3.12.5"
  }
 },
 "nbformat": 4,
 "nbformat_minor": 5
}
