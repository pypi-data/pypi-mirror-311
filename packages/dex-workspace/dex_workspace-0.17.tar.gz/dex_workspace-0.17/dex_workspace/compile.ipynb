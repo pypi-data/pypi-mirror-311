{
 "cells": [
  {
   "cell_type": "code",
   "execution_count": 1,
   "metadata": {},
   "outputs": [
    {
     "name": "stdout",
     "output_type": "stream",
     "text": [
      "Found .py files:\n",
      "/Users/gavinmac/Documents/DevOps/containers/dex_workspace/dex_workspace/app.py\n",
      "/Users/gavinmac/Documents/DevOps/containers/dex_workspace/dex_workspace/production/react-manage(1)/node_modules/flatted/python/flatted.py\n",
      "/Users/gavinmac/Documents/DevOps/containers/dex_workspace/dex_workspace/production/react-manage(1)/node_modules/flatted/python/test.py\n",
      "/Users/gavinmac/Documents/DevOps/containers/dex_workspace/dex_workspace/production/operator/path_tools.py\n",
      "/Users/gavinmac/Documents/DevOps/containers/dex_workspace/dex_workspace/production/operator/run_script.py\n",
      "/Users/gavinmac/Documents/DevOps/containers/dex_workspace/dex_workspace/production/operator/test_run.py\n",
      "/Users/gavinmac/Documents/DevOps/containers/dex_workspace/dex_workspace/production/operator/run_request.py\n",
      "/Users/gavinmac/Documents/DevOps/containers/dex_workspace/dex_workspace/production/operator/test.py\n",
      "/Users/gavinmac/Documents/DevOps/containers/dex_workspace/dex_workspace/production/operator/app.py\n",
      "/Users/gavinmac/Documents/DevOps/containers/dex_workspace/dex_workspace/production/operator/tools/files.py\n",
      "/Users/gavinmac/Documents/DevOps/containers/dex_workspace/dex_workspace/production/operator/tools/database.py\n",
      "/Users/gavinmac/Documents/DevOps/containers/dex_workspace/dex_workspace/production/operator/tools/datasets.py\n",
      "/Users/gavinmac/Documents/DevOps/containers/dex_workspace/dex_workspace/production/operator/tools/networks.py\n",
      "/Users/gavinmac/Documents/DevOps/containers/dex_workspace/dex_workspace/production/operator/tools/storage.py\n",
      "/Users/gavinmac/Documents/DevOps/containers/dex_workspace/dex_workspace/production/operator/tools/exceptions.py\n",
      "/Users/gavinmac/Documents/DevOps/containers/dex_workspace/dex_workspace/production/operator/operations/sharing.py\n",
      "/Users/gavinmac/Documents/DevOps/containers/dex_workspace/dex_workspace/production/operator/operations/security.py\n",
      "/Users/gavinmac/Documents/DevOps/containers/dex_workspace/dex_workspace/production/operator/operations/environments.py\n",
      "/Users/gavinmac/Documents/DevOps/containers/dex_workspace/dex_workspace/production/operator/operations/scripts.py\n",
      "/Users/gavinmac/Documents/DevOps/containers/dex_workspace/dex_workspace/production/operator/operations/projects.py\n",
      "/Users/gavinmac/Documents/DevOps/containers/dex_workspace/dex_workspace/production/operator/operations/running.py\n",
      "/Users/gavinmac/Documents/DevOps/containers/dex_workspace/dex_workspace/production/operator/operations/data.py\n"
     ]
    }
   ],
   "source": [
    "import os\n",
    "\n",
    "def list_pyx_files(folder):\n",
    "    pyx_files = []\n",
    "    for root, _, files in os.walk(folder):\n",
    "        for file in files:\n",
    "            if file.endswith(\".py\"):\n",
    "                # Append the relative path to the list\n",
    "                relative_path = os.path.join(root, file)\n",
    "                pyx_files.append(relative_path)\n",
    "    return pyx_files\n",
    "\n",
    "# Replace 'your_folder_path' with the path to the folder you want to scan\n",
    "folder_path = os.path.dirname('/Users/gavinmac/Documents/DevOps/containers/dex_workspace/dex_workspace/app.py')\n",
    "pyx_files = list_pyx_files(folder_path)\n",
    "\n",
    "print(\"Found .py files:\")\n",
    "for file in pyx_files:\n",
    "    print(file)\n"
   ]
  },
  {
   "cell_type": "code",
   "execution_count": null,
   "metadata": {},
   "outputs": [],
   "source": [
    "files = '''\n",
    "/Users/gavinmac/Documents/DevOps/containers/production container copy/production/operator/path_tools.py\n",
    "/Users/gavinmac/Documents/DevOps/containers/production container copy/production/operator/run_script.py\n",
    "/Users/gavinmac/Documents/DevOps/containers/production container copy/production/operator/test_run.py\n",
    "/Users/gavinmac/Documents/DevOps/containers/production container copy/production/operator/run_request.py\n",
    "/Users/gavinmac/Documents/DevOps/containers/production container copy/production/operator/test.py\n",
    "/Users/gavinmac/Documents/DevOps/containers/production container copy/production/operator/tools/files.py\n",
    "/Users/gavinmac/Documents/DevOps/containers/production container copy/production/operator/tools/database.py\n",
    "/Users/gavinmac/Documents/DevOps/containers/production container copy/production/operator/tools/datasets.py\n",
    "/Users/gavinmac/Documents/DevOps/containers/production container copy/production/operator/tools/networks.py\n",
    "/Users/gavinmac/Documents/DevOps/containers/production container copy/production/operator/tools/storage.py\n",
    "/Users/gavinmac/Documents/DevOps/containers/production container copy/production/operator/tools/exceptions.py\n",
    "/Users/gavinmac/Documents/DevOps/containers/production container copy/production/operator/operations/sharing.py\n",
    "/Users/gavinmac/Documents/DevOps/containers/production container copy/production/operator/operations/security.py\n",
    "/Users/gavinmac/Documents/DevOps/containers/production container copy/production/operator/operations/environments.py\n",
    "/Users/gavinmac/Documents/DevOps/containers/production container copy/production/operator/operations/scripts.py\n",
    "/Users/gavinmac/Documents/DevOps/containers/production container copy/production/operator/operations/projects.py\n",
    "/Users/gavinmac/Documents/DevOps/containers/production container copy/production/operator/operations/running.py\n",
    "/Users/gavinmac/Documents/DevOps/containers/production container copy/production/operator/operations/data.py\n",
    "'''\n",
    "\n",
    "files = files.split('\\n')\n",
    "files = [i for i in filter(lambda x: x!='',files)]"
   ]
  },
  {
   "cell_type": "code",
   "execution_count": null,
   "metadata": {},
   "outputs": [],
   "source": [
    "def execute_cmd(file:str):\n",
    "    dirname = os.path.dirname(file)\n",
    "    filename = os.path.relpath(file, dirname)\n",
    "    cmd = f'cd \"{dirname}\" && /usr/bin/python3 -m nuitka --module \"{filename}\" '\n",
    "    os.system(cmd)\n",
    "    #print(cmd)\n",
    "\n",
    "from concurrent.futures import ThreadPoolExecutor\n",
    "\n",
    "pool = ThreadPoolExecutor()\n",
    "\n",
    "[i for i in pool.map(execute_cmd, files)]"
   ]
  },
  {
   "cell_type": "code",
   "execution_count": null,
   "metadata": {},
   "outputs": [],
   "source": [
    "for i in files:\n",
    "    os.remove(i)"
   ]
  }
 ],
 "metadata": {
  "kernelspec": {
   "display_name": "Python 3",
   "language": "python",
   "name": "python3"
  },
  "language_info": {
   "codemirror_mode": {
    "name": "ipython",
    "version": 3
   },
   "file_extension": ".py",
   "mimetype": "text/x-python",
   "name": "python",
   "nbconvert_exporter": "python",
   "pygments_lexer": "ipython3",
   "version": "3.9.6"
  }
 },
 "nbformat": 4,
 "nbformat_minor": 2
}
