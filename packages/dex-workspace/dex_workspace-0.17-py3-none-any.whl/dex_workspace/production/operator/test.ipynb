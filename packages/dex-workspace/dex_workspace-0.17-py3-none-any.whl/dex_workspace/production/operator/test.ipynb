{
 "cells": [
  {
   "cell_type": "code",
   "execution_count": 1,
   "metadata": {},
   "outputs": [
    {
     "name": "stdout",
     "output_type": "stream",
     "text": [
      "[{'main_script': '8e552426-4cf4-4139-b733-5636dea754c3',\n",
      "  'name': 'project-this-this',\n",
      "  'project_id': '98513e5b-be65-4ad5-96c6-0e4471ec9035',\n",
      "  'update_time': '2024-11-06 15:21:57.121030'},\n",
      " {'main_script': '8e552426-4cf4-4139-b733-5636dea754c3',\n",
      "  'name': 'project-1',\n",
      "  'project_id': 'f362406e-bb09-4398-9263-7512adab7330',\n",
      "  'update_time': '2024-11-06 15:21:57.121030'},\n",
      " {'main_script': '8e552426-4cf4-4139-b733-5636dea754c3',\n",
      "  'name': 'project-2',\n",
      "  'project_id': '50bf5a6b-b352-437d-95d8-19fe7b9fa088',\n",
      "  'update_time': '2024-11-06 15:21:57.121030'},\n",
      " {'main_script': '8e552426-4cf4-4139-b733-5636dea754c3',\n",
      "  'name': 'New Project',\n",
      "  'project_id': '324cb034-5b65-4aa5-9c2c-401d58722f7c',\n",
      "  'update_time': '2024-11-15 15:02:14.088816'},\n",
      " {'main_script': None,\n",
      "  'name': 'Untitled',\n",
      "  'project_id': 'cd30dbc1-e3d2-4299-9d9d-349208ca61a0',\n",
      "  'update_time': '2024-11-19 10:44:09.742251'}]\n"
     ]
    }
   ],
   "source": [
    "\n",
    "from tools.database import lite_client\n",
    "from uuid import uuid4\n",
    "from pprint import pprint\n",
    "\n",
    "cmd = '''\n",
    "\n",
    "select * from projects\n",
    "\n",
    "'''\n",
    "\n",
    "values = [\n",
    "    (str(uuid4()), f'project-{i}', 'NOW()' ) for i in range(3)\n",
    "]\n",
    "\n",
    "pprint(lite_client.select(cmd,))"
   ]
  },
  {
   "cell_type": "code",
   "execution_count": 5,
   "metadata": {},
   "outputs": [
    {
     "name": "stdout",
     "output_type": "stream",
     "text": [
      "[{'access_key': '994e1551-fcc9-48de-b8f6-5c2d7280a6ea',\n",
      "  'data_id': '090d20f3-3432-40a4-b618-314c656d3cdc'},\n",
      " {'access_key': 'aa27452f-6967-4840-8e96-1eaee7a55305',\n",
      "  'data_id': '1504db45-303a-49fb-8382-d3bd662c6130'},\n",
      " {'access_key': 'aa27452f-6967-4840-8e96-1eaee7a55305',\n",
      "  'data_id': '8312e3ce-9a88-457b-98d3-ac17ff6cd84b'},\n",
      " {'access_key': '10f2b236-393d-4f1a-a35b-5447d31fbf5e',\n",
      "  'data_id': '2f666112-492e-41de-ae3f-c2554be196b6'},\n",
      " {'access_key': 'aa27452f-6967-4840-8e96-1eaee7a55305',\n",
      "  'data_id': 'd1bc9354-59ce-4829-8b65-b75ff52461cb'},\n",
      " {'access_key': '10f2b236-393d-4f1a-a35b-5447d31fbf5e',\n",
      "  'data_id': '6c6cf413-88ae-4ddf-b375-48c0558e9df7'},\n",
      " {'access_key': '10f2b236-393d-4f1a-a35b-5447d31fbf5e',\n",
      "  'data_id': '4764897e-5aa8-4416-b3fb-37c4cdfead23'}]\n"
     ]
    }
   ],
   "source": [
    "cmd = '''\n",
    "\n",
    "SELECT \n",
    "    * FROM data_shares\n",
    "\n",
    "'''\n",
    "\n",
    "p_id = '98513e5b-be65-4ad5-96c6-0e4471ec9035'\n",
    "\n",
    "values = [\n",
    "    (str(uuid4()), f'project-{i}', 'NOW()' ) for i in range(3)\n",
    "]\n",
    "\n",
    "pprint(lite_client.select(cmd,))\n",
    "\n"
   ]
  },
  {
   "cell_type": "code",
   "execution_count": 19,
   "metadata": {},
   "outputs": [
    {
     "name": "stdout",
     "output_type": "stream",
     "text": [
      "[{'content': '\\n'\n",
      "             'import time\\n'\n",
      "             'for i in range(25):\\n'\n",
      "             '    time.sleep(1)\\n'\n",
      "             '    print(i*10000)\\n'\n",
      "             '\\n',\n",
      "  'create_time': '2024-11-06 15:35:59.762284',\n",
      "  'description': 'a test script',\n",
      "  'name': 'main.py',\n",
      "  'script_id': 'c107c64f-0bc1-421c-ab4f-98fa6e5296b2',\n",
      "  'size': 1000,\n",
      "  'update_time': '2024-11-06 15:35:59.762281'},\n",
      " {'content': '\\n'\n",
      "             'import time\\n'\n",
      "             'for i in range(25):\\n'\n",
      "             '    time.sleep(1)\\n'\n",
      "             '    print(i*10000)\\n'\n",
      "             '\\n',\n",
      "  'create_time': '2024-11-06 15:40:18.395104',\n",
      "  'description': 'a test script',\n",
      "  'name': 'main0.py',\n",
      "  'script_id': 'd97a416e-08b1-4980-b2a9-86e79dece696',\n",
      "  'size': 1000,\n",
      "  'update_time': '2024-11-06 15:40:18.395101'},\n",
      " {'content': '\\n'\n",
      "             'import time\\n'\n",
      "             'for i in range(25):\\n'\n",
      "             '    time.sleep(1)\\n'\n",
      "             '    print(i*10000)\\n'\n",
      "             '\\n',\n",
      "  'create_time': '2024-11-06 15:40:18.395106',\n",
      "  'description': 'a test script',\n",
      "  'name': 'main1.py',\n",
      "  'script_id': 'f1d053d5-ab30-407f-8fbf-c7d8d03121f1',\n",
      "  'size': 1000,\n",
      "  'update_time': '2024-11-06 15:40:18.395105'},\n",
      " {'content': '\\n'\n",
      "             'import time\\n'\n",
      "             'for i in range(25):\\n'\n",
      "             '    time.sleep(1)\\n'\n",
      "             '    print(i*10000)\\n'\n",
      "             '\\n',\n",
      "  'create_time': '2024-11-06 15:40:18.395107',\n",
      "  'description': 'a test script',\n",
      "  'name': 'main2.py',\n",
      "  'script_id': 'b21300bf-22cd-4153-a3e9-6a409e8b3299',\n",
      "  'size': 1000,\n",
      "  'update_time': '2024-11-06 15:40:18.395107'},\n",
      " {'content': '\\n'\n",
      "             'import time\\n'\n",
      "             'for i in range(25):\\n'\n",
      "             '    time.sleep(1)\\n'\n",
      "             '    print(i*10000)\\n'\n",
      "             '\\n',\n",
      "  'create_time': '2024-11-06 15:40:18.395109',\n",
      "  'description': 'a test script',\n",
      "  'name': 'main3.py',\n",
      "  'script_id': 'e081c6ab-3be5-4c80-a9e1-e7bc5974753e',\n",
      "  'size': 1000,\n",
      "  'update_time': '2024-11-06 15:40:18.395108'},\n",
      " {'content': '\\n'\n",
      "             'import time\\n'\n",
      "             'for i in range(25):\\n'\n",
      "             '    time.sleep(1)\\n'\n",
      "             '    print(i*10000)\\n'\n",
      "             '\\n',\n",
      "  'create_time': '2024-11-06 15:40:18.395110',\n",
      "  'description': 'a test script',\n",
      "  'name': 'main4.py',\n",
      "  'script_id': 'f6769e9a-1767-48d6-b39c-548e2b2cfe80',\n",
      "  'size': 1000,\n",
      "  'update_time': '2024-11-06 15:40:18.395110'}]\n"
     ]
    }
   ],
   "source": [
    "from uuid import uuid4\n",
    "cmd = '''\n",
    "\n",
    "select * from scripts\n",
    "\n",
    "\n",
    "'''\n",
    "\n",
    "values = [\n",
    "    (str(uuid4()), f'project-{i}', 'NOW()' ) for i in range(3)\n",
    "]\n",
    "\n",
    "pprint(lite_client.select(cmd, ))"
   ]
  },
  {
   "cell_type": "code",
   "execution_count": 8,
   "metadata": {},
   "outputs": [],
   "source": [
    "from uuid import uuid4\n",
    "from datetime import datetime\n",
    "cmd = '''\n",
    "\n",
    "update datasets set data_id = ? where name='data4'\n",
    "\n",
    "'''\n",
    "\n",
    "p_id = '98513e5b-be65-4ad5-96c6-0e4471ec9035'\n",
    "\n",
    "values = [\n",
    "    (f'data0', '(100,100)', 1000, '','8312e3ce-9a88-457b-98d3-ac17ff6cd84b',),\n",
    "    (f'data1', '(100,100)', 1000, '','090d20f3-3432-40a4-b618-314c656d3cdc',),\n",
    "    (f'data2', '(100,100)', 1000, '','1504db45-303a-49fb-8382-d3bd662c6130',),\n",
    "    (f'data3', '(100,100)', 1000, '','1ef2be2a-437e-498c-8170-1cbdd1e96401',),\n",
    "    (f'data4', '(100,100)', 1000, '','1ef2be2a-437e-498c-8170-1cbdd1e96401',)\n",
    "]\n",
    "\n",
    "code = \"\"\"\n",
    "import time\n",
    "for i in range(25):\n",
    "    time.sleep(1)\n",
    "    print(i*10000)\n",
    "\n",
    "\"\"\"\n",
    "\n",
    "lite_client.query(cmd,  (str(uuid4()) , ) )"
   ]
  },
  {
   "cell_type": "code",
   "execution_count": 5,
   "metadata": {},
   "outputs": [
    {
     "name": "stdout",
     "output_type": "stream",
     "text": [
      "/Applications/Xcode.app/Contents/Developer/usr/bin/python3\n"
     ]
    }
   ],
   "source": [
    "\n",
    "import sys\n",
    "\n",
    "def get_current_python_path():\n",
    "    return sys.executable\n",
    "\n",
    "print(get_current_python_path())"
   ]
  }
 ],
 "metadata": {
  "kernelspec": {
   "display_name": "Python 3",
   "language": "python",
   "name": "python3"
  },
  "language_info": {
   "codemirror_mode": {
    "name": "ipython",
    "version": 3
   },
   "file_extension": ".py",
   "mimetype": "text/x-python",
   "name": "python",
   "nbconvert_exporter": "python",
   "pygments_lexer": "ipython3",
   "version": "3.9.6"
  }
 },
 "nbformat": 4,
 "nbformat_minor": 2
}
