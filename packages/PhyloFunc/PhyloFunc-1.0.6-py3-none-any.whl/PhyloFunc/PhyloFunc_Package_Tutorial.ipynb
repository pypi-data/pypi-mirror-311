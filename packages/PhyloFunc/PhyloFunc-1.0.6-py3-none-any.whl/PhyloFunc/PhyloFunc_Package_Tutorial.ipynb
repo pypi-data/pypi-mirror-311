{
 "cells": [
  {
   "cell_type": "code",
   "execution_count": null,
   "id": "20d87a82",
   "metadata": {},
   "outputs": [],
   "source": [
    "## This notebook provides a tutorial to calculate PhyloFunc distance using PhyloFunc package\n",
    "## Users can use pip to install PhyloFunc: \n",
    "!pip install PhyloFunc "
   ]
  },
  {
   "cell_type": "code",
   "execution_count": null,
   "id": "e4285cbc",
   "metadata": {},
   "outputs": [],
   "source": [
    "import pandas as pd"
   ]
  },
  {
   "cell_type": "code",
   "execution_count": 13,
   "id": "33f775c5",
   "metadata": {},
   "outputs": [],
   "source": [
    "# Step1: Prepare the metaproteomic Taxon-Function table in CSV format, \n",
    "## Table Instructions:\n",
    "### Include taxa IDs, functional accessions, and protein intensity.\n",
    "### First column: Taxa IDs.\n",
    "### Second column: Functional accession.\n",
    "### Additional columns: Metaproteomic intensity data.\n",
    "### Group by taxon-function pairs and sum intensity values.\n",
    "\n",
    "# Read the example Genome-COG table (i.e. Taxon-Function table)\n",
    "## The example dataset shows an in vitro human gut microbiome cultured in a RapidAIM assay,\n",
    "## with or without the presence different concentrations of diclofenac (DCLF).\n",
    "Genome_COG = pd.read_csv(\"Genome-COG.csv\", sep = ',')\n",
    "\n",
    "# Additional notes\n",
    "## \"Genome\" in the example data refers to Genome IDs in the MGYG (UHGG) database.\n",
    "## To use the embedded UHGG tree file, users can search with MetaLab-MAG or their own UHGG database.\n",
    "## Genome ids can be extracted from the protein groups."
   ]
  },
  {
   "cell_type": "code",
   "execution_count": 9,
   "id": "fb539a11",
   "metadata": {
    "scrolled": false
   },
   "outputs": [
    {
     "name": "stdout",
     "output_type": "stream",
     "text": [
      "The PhyloFunc distance of \"DC.M.48.1\" and \"DC.H.48.1\" is 0.848934829450047.\n",
      "Finish, time 73.33 seconds\n"
     ]
    }
   ],
   "source": [
    "# Step2.1: import PhyloFunc package and calculate the PhyloFunc distance \n",
    "\n",
    "from PhyloFunc import PhyloFunc_distance\n",
    "\n",
    "# Let's first perform a PhyloFunc distance calculation with one pair of sample\n",
    "## Extract a pair of samples\n",
    "sample_pair=Genome_COG.iloc[:, :4]\n",
    "sample_pair.to_csv(\"sample_pair.csv\",index=False)\n",
    "\n",
    "# Compute PhyloFunc distance\n",
    "## UHGG-based tree is automatically called within the function\n",
    "## If user use self-defined tree, use the tree_file='user_tree_file.nwk' option.\n",
    "PhyloFunc_distance(sample_file=\"sample_pair.csv\")"
   ]
  },
  {
   "cell_type": "code",
   "execution_count": 12,
   "id": "e7dc408f",
   "metadata": {
    "scrolled": true
   },
   "outputs": [
    {
     "name": "stdout",
     "output_type": "stream",
     "text": [
      "Intermediate result 0.8489349045752698\n",
      "Intermediate result 0.2620734248079076\n",
      "Intermediate result 0.4624861640103018\n",
      "Intermediate result 0.8407710418998591\n",
      "Intermediate result 0.43509764349773483\n",
      "Intermediate result 0.500674926139445\n",
      "Intermediate result 0.39279154152208645\n",
      "Intermediate result 0.4412091854865207\n",
      "Intermediate result 0.8497605606265916\n",
      "Intermediate result 0.28292930885723194\n",
      "Intermediate result 0.43933823955966084\n",
      "Intermediate result 0.8729610803512116\n",
      "Intermediate result 0.9604362241196278\n",
      "Intermediate result 0.5220425963184375\n",
      "Intermediate result 0.9404192703307763\n",
      "Intermediate result 0.9881181260905045\n",
      "Intermediate result 0.9135435285121661\n",
      "Intermediate result 0.9580156171134901\n",
      "Intermediate result 0.4048462653821416\n",
      "Intermediate result 0.8585864258587076\n",
      "Intermediate result 0.9326358535494432\n",
      "Intermediate result 0.44028839953017573\n",
      "Intermediate result 0.8531807355053472\n",
      "Intermediate result 0.4173763225784313\n",
      "Intermediate result 0.49179939552461405\n",
      "Intermediate result 0.3489222477807342\n",
      "Intermediate result 0.4186962449959794\n",
      "Intermediate result 0.864358178232563\n",
      "Intermediate result 0.32694582356708035\n",
      "Intermediate result 0.43913200929782414\n",
      "Intermediate result 0.955565774848768\n",
      "Intermediate result 0.4123109182004349\n",
      "Intermediate result 0.368827641854511\n",
      "Intermediate result 0.33938291506984375\n",
      "Intermediate result 0.33607826418013903\n",
      "Intermediate result 0.9653235129518798\n",
      "Intermediate result 0.46070486658698706\n",
      "Intermediate result 0.3820277590647691\n",
      "Intermediate result 0.9407314141479537\n",
      "Intermediate result 0.9872732186887069\n",
      "Intermediate result 0.9119596968022549\n",
      "Intermediate result 0.9560340141988376\n",
      "Intermediate result 0.39207352801800704\n",
      "Intermediate result 0.8513454788731075\n",
      "Intermediate result 0.9380893447030734\n",
      "Intermediate result 0.37215603272417686\n",
      "Intermediate result 0.389708355879041\n",
      "Intermediate result 0.44012650377395973\n",
      "Intermediate result 0.9524853886183737\n",
      "Intermediate result 0.4308680760468417\n",
      "Intermediate result 0.3224306248753605\n",
      "Intermediate result 0.351905784810149\n",
      "Intermediate result 0.40248993717812354\n",
      "Intermediate result 0.9928068257883051\n",
      "Intermediate result 0.47826906797614294\n",
      "Intermediate result 0.35193440612364213\n",
      "Intermediate result 0.37348877980505835\n",
      "Intermediate result 0.9164766446644489\n",
      "Intermediate result 0.38420007201859496\n",
      "Intermediate result 0.33711864910903555\n",
      "Intermediate result 0.9679829965950068\n",
      "Intermediate result 0.4594690999840074\n",
      "Intermediate result 0.4352380956759458\n",
      "Intermediate result 0.8582422015131541\n",
      "Intermediate result 0.9413998657959434\n",
      "Intermediate result 0.41586349656414023\n",
      "Execution time: 2787.5714480876923\n"
     ]
    }
   ],
   "source": [
    "# Step2.2: calculate PhyloFunc distance matrix for all samples\n",
    "## This may take around one hour for the example dataset.\n",
    "\n",
    "from PhyloFunc import PhyloFunc_matrix\n",
    "\n",
    "data_PhyloFunc_all=PhyloFunc_matrix(sample_file=\"Genome-COG.csv\")\n"
   ]
  },
  {
   "cell_type": "code",
   "execution_count": 39,
   "id": "f51f789d",
   "metadata": {},
   "outputs": [
    {
     "data": {
      "image/png": "[encoded data removed]",
      "text/plain": [
       "<Figure size 576x360 with 1 Axes>"
      ]
     },
     "metadata": {
      "needs_background": "light"
     },
     "output_type": "display_data"
    }
   ],
   "source": [
    "# Step3: Draw a hierarchical clustering plot based on the resulting PhyloFunc matrix\n",
    "import matplotlib.pyplot as plt\n",
    "from scipy.cluster.hierarchy import dendrogram, linkage\n",
    "from scipy.spatial.distance import squareform\n",
    "import pandas as pd\n",
    "\n",
    "# Generate distance \n",
    "data_PhyloFunc = data_PhyloFunc_all.T\n",
    "data_PhyloFunc_array = squareform(data_PhyloFunc)\n",
    "linkage_PhyloFunc = linkage(data_PhyloFunc_array, method='average')\n",
    "\n",
    "# Create a single subplot\n",
    "fig, ax = plt.subplots(figsize=(8, 5))\n",
    "\n",
    "dendrogram_kwargs = dict(leaf_rotation=90, color_threshold=0, above_threshold_color='black')\n",
    "\n",
    "# Plot bierarchical clustering\n",
    "dendrogram(linkage_PhyloFunc, ax=ax, labels=data_PhyloFunc.index, **dendrogram_kwargs)\n",
    "ax.set_title('PhyloFunc Distance (Average Linkage)')\n",
    "ax.set_ylabel('Height')\n",
    "\n",
    "# Add annotation text\n",
    "ax.text(0.5, -0.4, \"Sample IDs\",\n",
    "        ha='center', va='center', transform=ax.transAxes, fontsize=10)\n",
    "\n",
    "# Adjust axis style\n",
    "def style_axes(ax):\n",
    "    ax.spines['top'].set_visible(False)\n",
    "    ax.spines['right'].set_visible(False)\n",
    "    ax.spines['bottom'].set_visible(False)\n",
    "style_axes(ax)\n",
    "plt.show()\n"
   ]
  }
 ],
 "metadata": {
  "kernelspec": {
   "display_name": "Python 3 (ipykernel)",
   "language": "python",
   "name": "python3"
  },
  "language_info": {
   "codemirror_mode": {
    "name": "ipython",
    "version": 3
   },
   "file_extension": ".py",
   "mimetype": "text/x-python",
   "name": "python",
   "nbconvert_exporter": "python",
   "pygments_lexer": "ipython3",
   "version": "3.9.12"
  }
 },
 "nbformat": 4,
 "nbformat_minor": 5
}
