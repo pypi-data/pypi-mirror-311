{
 "cells": [
  {
   "cell_type": "code",
   "execution_count": 1,
   "id": "3f2d46a1-b5f0-4c75-bc55-4e768b9de112",
   "metadata": {},
   "outputs": [],
   "source": [
    "import json\n",
    "import time\n",
    "class Timer:\n",
    "    def __init__(self):\n",
    "        return\n",
    "    def __enter__(self):\n",
    "        self._t0 = time.perf_counter()\n",
    "        return\n",
    "    def __exit__(self, type, value, traceback):\n",
    "        t1 = time.perf_counter()\n",
    "        print(f\"Elapsed: {t1-self._t0:0.3f} seconds.\")\n",
    "        return\n",
    "    pass\n"
   ]
  },
  {
   "cell_type": "code",
   "execution_count": 2,
   "id": "fb6c5b9c-314b-47ec-8157-6b75433f58b5",
   "metadata": {},
   "outputs": [
    {
     "name": "stderr",
     "output_type": "stream",
     "text": [
      "/Users/RAYW/py-envs/explorer/lib/python3.9/site-packages/urllib3/__init__.py:35: NotOpenSSLWarning: urllib3 v2 only supports OpenSSL 1.1.1+, currently the 'ssl' module is compiled with 'LibreSSL 2.8.3'. See: https://github.com/urllib3/urllib3/issues/3020\n",
      "  warnings.warn(\n"
     ]
    }
   ],
   "source": [
    "from fmu.sumo.explorer import Explorer\n",
    "exp=Explorer(env=\"preview\")"
   ]
  },
  {
   "cell_type": "code",
   "execution_count": 3,
   "id": "501ca50e-272a-4231-8edd-a4dfa4905e68",
   "metadata": {},
   "outputs": [],
   "source": [
    "def total_blob_size(sc):\n",
    "    tbs = sc.metrics.sum(\"file.size_bytes\")\n",
    "    if tbs == 0:\n",
    "        tbs = sc.metrics.sum(\"_sumo.blob_size\")\n",
    "    return tbs\n",
    "\n",
    "def do_aggregate(tagname, rels, columns):\n",
    "    print(f\"{tagname}: {len(rels)} objects, {len(rels.columns)} columns.\")\n",
    "    tot_size_bytes = total_blob_size(rels)\n",
    "    print(f\"Total size of input: {tot_size_bytes / (1024*1024*1024):.3f} GiB\")\n",
    "    with Timer():\n",
    "        agg=rels.filter(column=columns)._aggregate(columns=columns)\n",
    "    print(agg.to_pandas().sort_values(by=[\"REAL\", \"DATE\"]))\n",
    "\n",
    "def run_exp(caseuuid, itername, tagname, columns):\n",
    "    case = exp.get_case_by_uuid(caseuuid)\n",
    "    print(f\"{case.asset}: {case.name}: {caseuuid}\")\n",
    "    rels=case.tables.visible.filter(iteration=itername, realization=True, tagname=tagname, column=columns)\n",
    "    do_aggregate(tagname, rels, columns)\n",
    "    rels=case.tables.hidden.filter(iteration=itername, realization=True, tagname=tagname, column=columns)\n",
    "    do_aggregate(tagname, rels, columns)"
   ]
  },
  {
   "cell_type": "code",
   "execution_count": 4,
   "id": "5f3d4e12-2b23-4585-a935-eb0e48951dd6",
   "metadata": {},
   "outputs": [
    {
     "name": "stdout",
     "output_type": "stream",
     "text": [
      "Troll: 24.0.0-20240828_ix_network_test5: 359e7c72-a4ca-43ee-9203-f09cd0f149a9\n",
      "summary: 27 objects, 64996 columns.\n",
      "Total size of input: 1.248 GiB\n",
      "Elapsed: 15.108 seconds.\n",
      "          DATE         FOPT  REAL\n",
      "198 2024-07-02  282442208.0     6\n",
      "199 2024-07-03  282451072.0     6\n",
      "200 2024-08-01  282677120.0     6\n",
      "201 2024-09-01  282889760.0     6\n",
      "202 2024-10-01  283077440.0     6\n",
      "..         ...          ...   ...\n",
      "193 2025-02-15  286229120.0   249\n",
      "194 2025-04-01  286425696.0   249\n",
      "195 2025-09-01  287060416.0   249\n",
      "196 2025-10-01  287176832.0   249\n",
      "197 2026-01-01  287523552.0   249\n",
      "\n",
      "[265 rows x 3 columns]\n",
      "summary: 27 objects, 554 columns.\n",
      "Total size of input: 0.009 GiB\n",
      "Elapsed: 1.351 seconds.\n",
      "          DATE         FOPT  REAL\n",
      "114 2024-07-02  282442208.0     6\n",
      "115 2024-07-03  282451072.0     6\n",
      "116 2024-08-01  282677120.0     6\n",
      "117 2024-09-01  282889760.0     6\n",
      "118 2024-10-01  283077440.0     6\n",
      "..         ...          ...   ...\n",
      "16  2025-02-15  286229120.0   249\n",
      "17  2025-04-01  286425696.0   249\n",
      "18  2025-09-01  287060416.0   249\n",
      "19  2025-10-01  287176832.0   249\n",
      "20  2026-01-01  287523552.0   249\n",
      "\n",
      "[265 rows x 3 columns]\n"
     ]
    }
   ],
   "source": [
    "run_exp(\"359e7c72-a4ca-43ee-9203-f09cd0f149a9\", \"pred-0\", \"summary\", [\"FOPT\"])"
   ]
  },
  {
   "cell_type": "code",
   "execution_count": 5,
   "id": "4ba6a7a8-4c32-4015-8767-41b2f7c777e0",
   "metadata": {},
   "outputs": [
    {
     "name": "stdout",
     "output_type": "stream",
     "text": [
      "Troll: 24.0.0-20240820: fc6cc7d3-6162-46a3-9d69-48ad1eaecdfb\n",
      "summary: 196 objects, 24568 columns.\n",
      "Total size of input: 30.013 GiB\n",
      "Elapsed: 32.407 seconds.\n",
      "             DATE          FOPT  REAL\n",
      "778120 1990-02-01  0.000000e+00     1\n",
      "778121 1990-03-01  1.445590e+05     1\n",
      "778122 1990-04-01  2.741935e+05     1\n",
      "778123 1990-05-01  4.145006e+05     1\n",
      "778124 1990-06-01  5.512956e+05     1\n",
      "...           ...           ...   ...\n",
      "249139 2024-06-27  2.980280e+08   249\n",
      "249140 2024-06-28  2.980311e+08   249\n",
      "249141 2024-06-29  2.980342e+08   249\n",
      "249142 2024-06-30  2.980384e+08   249\n",
      "249143 2024-07-01  2.980405e+08   249\n",
      "\n",
      "[952560 rows x 3 columns]\n",
      "summary: 196 objects, 500 columns.\n",
      "Total size of input: 1.328 GiB\n",
      "Elapsed: 3.757 seconds.\n",
      "             DATE          FOPT  REAL\n",
      "488844 1990-02-01  0.000000e+00     1\n",
      "488845 1990-03-01  1.445590e+05     1\n",
      "488846 1990-04-01  2.741935e+05     1\n",
      "488847 1990-05-01  4.145006e+05     1\n",
      "488848 1990-06-01  5.512956e+05     1\n",
      "...           ...           ...   ...\n",
      "352759 2024-06-27  2.980280e+08   249\n",
      "352760 2024-06-28  2.980311e+08   249\n",
      "352761 2024-06-29  2.980342e+08   249\n",
      "352762 2024-06-30  2.980384e+08   249\n",
      "352763 2024-07-01  2.980405e+08   249\n",
      "\n",
      "[952560 rows x 3 columns]\n"
     ]
    }
   ],
   "source": [
    "run_exp(\"fc6cc7d3-6162-46a3-9d69-48ad1eaecdfb\", \"iter-0\", \"summary\", [\"FOPT\"])"
   ]
  },
  {
   "cell_type": "code",
   "execution_count": 6,
   "id": "d07581ef-8fdb-4621-b81c-8aaf20b0c204",
   "metadata": {},
   "outputs": [
    {
     "name": "stdout",
     "output_type": "stream",
     "text": [
      "Drogon: ruaj_testcase: 5b558daf-61c5-400a-9aa2-c602bb471a16\n",
      "summary: 160 objects, 974 columns.\n",
      "Total size of input: 0.175 GiB\n",
      "Elapsed: 2.270 seconds.\n",
      "            DATE          FOPT  REAL\n",
      "8097  2018-01-01  0.000000e+00     0\n",
      "8098  2018-01-02  0.000000e+00     0\n",
      "8099  2018-01-05  0.000000e+00     0\n",
      "8100  2018-01-06  3.991868e+03     0\n",
      "8101  2018-01-09  1.596676e+04     0\n",
      "...          ...           ...   ...\n",
      "39275 2020-06-14  7.278816e+06   159\n",
      "39276 2020-06-27  7.349246e+06   159\n",
      "39277 2020-06-28  7.354664e+06   159\n",
      "39278 2020-06-30  7.365482e+06   159\n",
      "39279 2020-07-01  7.370888e+06   159\n",
      "\n",
      "[39280 rows x 3 columns]\n",
      "summary: 160 objects, 500 columns.\n",
      "Total size of input: 0.097 GiB\n",
      "Elapsed: 1.794 seconds.\n",
      "            DATE          FOPT  REAL\n",
      "247   2018-01-01  0.000000e+00     0\n",
      "248   2018-01-02  0.000000e+00     0\n",
      "249   2018-01-05  0.000000e+00     0\n",
      "250   2018-01-06  3.991868e+03     0\n",
      "251   2018-01-09  1.596676e+04     0\n",
      "...          ...           ...   ...\n",
      "31149 2020-06-14  7.278816e+06   159\n",
      "31150 2020-06-27  7.349246e+06   159\n",
      "31151 2020-06-28  7.354664e+06   159\n",
      "31152 2020-06-30  7.365482e+06   159\n",
      "31153 2020-07-01  7.370888e+06   159\n",
      "\n",
      "[39280 rows x 3 columns]\n"
     ]
    }
   ],
   "source": [
    "run_exp(\"5b558daf-61c5-400a-9aa2-c602bb471a16\", \"iter-0\", \"summary\", [\"FOPT\"])"
   ]
  },
  {
   "cell_type": "code",
   "execution_count": null,
   "id": "429d688e-34d1-4e19-b433-348d965dd436",
   "metadata": {},
   "outputs": [],
   "source": []
  }
 ],
 "metadata": {
  "kernelspec": {
   "display_name": "Python 3 (ipykernel)",
   "language": "python",
   "name": "python3"
  },
  "language_info": {
   "codemirror_mode": {
    "name": "ipython",
    "version": 3
   },
   "file_extension": ".py",
   "mimetype": "text/x-python",
   "name": "python",
   "nbconvert_exporter": "python",
   "pygments_lexer": "ipython3",
   "version": "3.9.6"
  }
 },
 "nbformat": 4,
 "nbformat_minor": 5
}
