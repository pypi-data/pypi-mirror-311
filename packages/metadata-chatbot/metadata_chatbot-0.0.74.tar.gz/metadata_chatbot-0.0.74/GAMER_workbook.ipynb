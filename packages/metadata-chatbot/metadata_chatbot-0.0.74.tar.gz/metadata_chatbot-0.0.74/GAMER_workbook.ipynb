{
 "cells": [
  {
   "cell_type": "markdown",
   "metadata": {},
   "source": [
    "# GAMER: Generative Analysis of Metadata Retrieval"
   ]
  },
  {
   "cell_type": "markdown",
   "metadata": {},
   "source": [
    "This model uses a multi agent framework on Langraph to retrieve and summarize metadata information based on a user's natural language query. \n",
    "\n",
    "This workflow consists of 6 agents, or nodes, where a decision is made and there is new context provided to either the model or the user. Here are some decisions incorporated into the framework:\n",
    "1. To best answer the query, does the entire database need to be queried, or the vector index?\n",
    "- Input: `x (query)`\n",
    "- Decides best data to query against\n",
    "- Output: `entire_database, vector_embeddings`\n",
    "2. If querying against the vector embeddings, does the index need to be filtered further with metdata tags, to improve optimization of retrieval?\n",
    "- Input: `x (query)`\n",
    "- Decides whether database can be further filtered by applying a MongoDB query\n",
    "- Output: `MongoDB query, None`\n",
    "3. Are the documents retrieved during retrieval relevant to the question?\n",
    "- Input: `x (query)`\n",
    "- Decides whether document should be kept or tossed during summarization\n",
    "- Output: `yes, no`\n"
   ]
  },
  {
   "cell_type": "markdown",
   "metadata": {},
   "source": [
    "### Synchronous calling"
   ]
  },
  {
   "cell_type": "code",
   "execution_count": 1,
   "metadata": {},
   "outputs": [
    {
     "name": "stderr",
     "output_type": "stream",
     "text": [
      "c:\\Users\\sreya.kumar\\Documents\\GitHub\\metadata-chatbot\\venv\\Lib\\site-packages\\metadata_chatbot\\agents\\workflow.py:106: LangChainDeprecationWarning: The method `BaseRetriever.get_relevant_documents` was deprecated in langchain-core 0.1.46 and will be removed in 1.0. Use :meth:`~invoke` instead.\n",
      "  documents = retriever.get_relevant_documents(query = query, query_filter = filter)\n"
     ]
    },
    {
     "name": "stdout",
     "output_type": "stream",
     "text": [
      "The subject information provided is:\n",
      "\n",
      "- subject_id: 662616\n",
      "- sex: Female\n",
      "- date_of_birth: 2022-11-29\n",
      "- genotype: wt/wt\n",
      "\n",
      "The acquisition information includes:\n",
      "\n",
      "- Tiles 73-83 with different channels (445nm, 488nm, 561nm) and coordinate transformations\n",
      "- Laser powers in milliwatts for each channel  \n",
      "- File names with coordinates for each tile/channel\n",
      "- Imaging angle of 0 degrees\n",
      "- Notes about laser power needing calibration\n",
      "\n",
      "There were two procedures performed:\n",
      "\n",
      "Procedure 1 (injection):\n",
      "- Injection materials included viruses SL1-hSyn-Cre, AAV1-CAG-H2B-mTurquoise2-WPRE, and AAV-Syn-DIO-TVA66T-dTomato-CVS N2cG\n",
      "- Injection coordinates and volumes provided\n",
      "\n",
      "Procedure 2 (surgery): \n",
      "- Injection material was virus EnvA CVS-N2C-histone-GFP\n",
      "- Injection coordinates and volumes provided\n",
      "\n",
      "Additional information includes specimen procedures like fixation, delipidation, and refractive index matching.\n"
     ]
    }
   ],
   "source": [
    "from metadata_chatbot.agents.GAMER import GAMER\n",
    "query = \"Can you summarize the subject and acquisition information in SmartSPIM_662616_2023-03-06_17-47-13\"\n",
    "\n",
    "model = GAMER()\n",
    "result = model.invoke(query)\n",
    "\n",
    "print(result)"
   ]
  },
  {
   "cell_type": "markdown",
   "metadata": {},
   "source": [
    "### Asynchronous calling"
   ]
  },
  {
   "cell_type": "code",
   "execution_count": 2,
   "metadata": {},
   "outputs": [
    {
     "name": "stderr",
     "output_type": "stream",
     "text": [
      "c:\\Users\\sreya.kumar\\Documents\\GitHub\\metadata-chatbot\\venv\\Lib\\site-packages\\metadata_chatbot\\agents\\async_workflow.py:98: LangChainDeprecationWarning: The method `BaseRetriever.aget_relevant_documents` was deprecated in langchain-core 0.1.46 and will be removed in 1.0. Use :meth:`~ainvoke` instead.\n",
      "  documents = await retriever.aget_relevant_documents(query = query, query_filter = filter)\n"
     ]
    },
    {
     "name": "stdout",
     "output_type": "stream",
     "text": [
      "Based on the provided context, here are the procedures performed on the specimen SmartSPIM_662616_2023-03-06_17-47-13 and their start and end dates:\n",
      "\n",
      "Subject procedures:\n",
      "1. Surgery on 2023-01-25 with virus injections (SL1-hSyn-Cre, AAV1-CAG-H2B-mTurquoise2-WPRE, AAV-Syn-DIO-TVA66T-dTomato-CVS N2cG)\n",
      "2. Surgery on 2023-01-25 with virus injection (EnvA CVS-N2C-histone-GFP)\n",
      "\n",
      "Specimen procedures:\n",
      "1. Fixation (SHIELD OFF) from 2023-02-10 to 2023-02-12\n",
      "2. Fixation (SHIELD ON) from 2023-02-12 to 2023-02-13\n",
      "3. Delipidation (24h Delipidation) from 2023-02-15 to 2023-02-16  \n",
      "4. Delipidation (Active Delipidation) from 2023-02-16 to 2023-02-18\n",
      "5. Refractive index matching (50% EasyIndex) from 2023-02-19 to 2023-02-20\n",
      "6. Refractive index matching (100% EasyIndex) from 2023-02-20 to 2023-02-21\n",
      "7. Imaging on SmartSPIM1-1 from 2023-03-06T17:47:13 to 2023-03-06T22:59:16\n"
     ]
    }
   ],
   "source": [
    "from metadata_chatbot.agents.GAMER import GAMER\n",
    "llm = GAMER()\n",
    "query = \"Can you list all the procedures performed on the specimen, including their start and end dates? in SmartSPIM_662616_2023-03-06_17-47-13\"\n",
    "\n",
    "result = await llm.ainvoke(query)\n",
    "print(result)"
   ]
  }
 ],
 "metadata": {
  "kernelspec": {
   "display_name": "venv",
   "language": "python",
   "name": "python3"
  },
  "language_info": {
   "codemirror_mode": {
    "name": "ipython",
    "version": 3
   },
   "file_extension": ".py",
   "mimetype": "text/x-python",
   "name": "python",
   "nbconvert_exporter": "python",
   "pygments_lexer": "ipython3",
   "version": "3.11.0"
  }
 },
 "nbformat": 4,
 "nbformat_minor": 2
}
